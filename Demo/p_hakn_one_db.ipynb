{
 "cells": [
  {
   "cell_type": "markdown",
   "metadata": {
    "tags": []
   },
   "source": [
    "> **Essential ML process for Intrusion Detection**\n",
    "<br>` python  3.7.13    scikit-learn  1.0.2 `\n",
    "<br>`numpy   1.19.5          pandas  1.3.5`"
   ]
  },
  {
   "cell_type": "markdown",
   "metadata": {
    "colab_type": "text",
    "id": "_S34U5S-i69d"
   },
   "source": [
    "**Import the main libraries**"
   ]
  },
  {
   "cell_type": "code",
   "execution_count": 1,
   "metadata": {
    "tags": []
   },
   "outputs": [],
   "source": [
    "import numpy\n",
    "import pandas\n",
    "\n",
    "from time import time\n",
    "\n",
    "import os\n",
    "data_path = '../datasets/NSL_KDD'"
   ]
  },
  {
   "cell_type": "markdown",
   "metadata": {
    "tags": []
   },
   "source": [
    "_import the local library_"
   ]
  },
  {
   "cell_type": "code",
   "execution_count": 2,
   "metadata": {
    "tags": []
   },
   "outputs": [],
   "source": [
    "# add parent folder path where lib folder is\n",
    "import sys\n",
    "if \"..\" not in sys.path:import sys; sys.path.insert(0, '..') "
   ]
  },
  {
   "cell_type": "code",
   "execution_count": 3,
   "metadata": {
    "tags": []
   },
   "outputs": [],
   "source": [
    "from mylib import show_labels_dist, show_metrics, bias_var_metrics"
   ]
  },
  {
   "cell_type": "markdown",
   "metadata": {
    "colab_type": "text",
    "id": "9IZetEZ8jQJm"
   },
   "source": [
    "**Import the Dataset**"
   ]
  },
  {
   "cell_type": "code",
   "execution_count": 4,
   "metadata": {},
   "outputs": [
    {
     "name": "stdout",
     "output_type": "stream",
     "text": [
      "Train Dataset: 63280 rows, 43 columns\n",
      "Test Dataset: 22544 rows, 43 columns\n"
     ]
    }
   ],
   "source": [
    "# Using boosted Train and preprocessed Test\n",
    "\n",
    "data_file = os.path.join(data_path, 'NSL_boosted-2.csv') \n",
    "train_df = pandas.read_csv(data_file)\n",
    "print('Train Dataset: {} rows, {} columns'.format(train_df.shape[0], train_df.shape[1]))\n",
    "\n",
    "data_file = os.path.join(data_path, 'NSL_ppTest.csv') \n",
    "test_df = pandas.read_csv(data_file)\n",
    "print('Test Dataset: {} rows, {} columns'.format(test_df.shape[0], test_df.shape[1]))"
   ]
  },
  {
   "cell_type": "markdown",
   "metadata": {
    "colab_type": "text",
    "id": "Cpzuyj7gxwCg"
   },
   "source": [
    "***\n",
    "**Data Preparation and EDA** (unique to this dataset)"
   ]
  },
  {
   "cell_type": "markdown",
   "metadata": {},
   "source": [
    "* _Quick visual check of unique values, deal with unique identifiers_"
   ]
  },
  {
   "cell_type": "code",
   "execution_count": 5,
   "metadata": {
    "tags": []
   },
   "outputs": [
    {
     "name": "stdout",
     "output_type": "stream",
     "text": [
      "Unique value count: Train ( 63280 rows ) ~ Test( 22544 rows )\n"
     ]
    }
   ],
   "source": [
    "# Identify columns with only one value \n",
    "# or with number of unique values == number of rows\n",
    "n_eq_one = []\n",
    "n_eq_all = []\n",
    "\n",
    "print('Unique value count: Train (',train_df.shape[0],'rows ) ~ Test(',test_df.shape[0],'rows )')\n",
    "for col in train_df.columns:\n",
    "    lctrn = len(train_df[col].unique())\n",
    "    lctst = len(test_df[col].unique())\n",
    "\n",
    "#    print(col, ' ::> ', lctrn, ' ~ ', lctst)\n",
    "    \n",
    "    if (lctrn == 1) and (lctrn == lctst): \n",
    "        n_eq_one.append(train_df[col].name)\n",
    "    if lctrn == train_df.shape[0]:\n",
    "        n_eq_all.append(train_df[col].name)"
   ]
  },
  {
   "cell_type": "code",
   "execution_count": 6,
   "metadata": {
    "tags": []
   },
   "outputs": [
    {
     "name": "stdout",
     "output_type": "stream",
     "text": [
      "Dropping single-valued features\n",
      "['num_outbound_cmds']\n"
     ]
    }
   ],
   "source": [
    "# Drop columns with only one value\n",
    "if len(n_eq_one) > 0:\n",
    "    print('Dropping single-valued features')\n",
    "    print(n_eq_one)\n",
    "    train_df.drop(n_eq_one, axis=1, inplace=True)\n",
    "    test_df.drop(n_eq_one, axis=1, inplace=True)\n",
    "\n",
    "# Drop or bin columns with number of unique values == number of rows\n",
    "if len(n_eq_all) > 0:\n",
    "    print('Dropping unique identifiers')\n",
    "    print(n_eq_all)\n",
    "    train_df.drop(n_eq_all, axis=1, inplace=True)\n",
    "    test_df.drop(n_eq_all, axis=1, inplace=True)\n",
    "\n",
    "# continue with featue selection / feature engineering"
   ]
  },
  {
   "cell_type": "markdown",
   "metadata": {},
   "source": [
    "* _Combine for processing classification target and text features_"
   ]
  },
  {
   "cell_type": "code",
   "execution_count": 7,
   "metadata": {},
   "outputs": [
    {
     "name": "stdout",
     "output_type": "stream",
     "text": [
      "Combined Dataset: 85824 rows, 42 columns\n"
     ]
    }
   ],
   "source": [
    "combined_df = pandas.concat([train_df, test_df])\n",
    "print('Combined Dataset: {} rows, {} columns'.format(\n",
    "    combined_df.shape[0], combined_df.shape[1]))"
   ]
  },
  {
   "cell_type": "markdown",
   "metadata": {},
   "source": [
    "* _Classification Target feature:_\n",
    "two columns of labels are available \n",
    "    * Two-class: Reduce the detailed attack labels to 'normal' or 'attack'\n",
    "    * Multiclass: Use the category labels (atakcat)"
   ]
  },
  {
   "cell_type": "code",
   "execution_count": 8,
   "metadata": {},
   "outputs": [],
   "source": [
    "# Set the classification target\n",
    "twoclass = True     # True or False"
   ]
  },
  {
   "cell_type": "code",
   "execution_count": 9,
   "metadata": {
    "jupyter": {
     "source_hidden": true
    },
    "tags": []
   },
   "outputs": [],
   "source": [
    "if twoclass:\n",
    "# Two-class: Reduce the detailed attack labels to 'normal' or 'attack'\n",
    "# new single column data structure is a [series]\n",
    "    labels_df = combined_df['label'].copy()\n",
    "    labels_df[labels_df != 'normal'] = 'attack'\n",
    "else:\n",
    "# Multiclass: Use the category labels (atakcat)\n",
    "# new single column data structure is a [[dataframe]]\n",
    "# rename the column and convert to a series for later\n",
    "    labels_df = combined_df[['atakcat']].copy()\n",
    "    labels_df.rename(columns={'atakcat':'label'}, inplace=True)\n",
    "    labels_df = labels_df.squeeze('columns')\n",
    "\n",
    "# drop target features \n",
    "combined_df.drop(['label'], axis=1, inplace=True)\n",
    "combined_df.drop(['atakcat'], axis=1, inplace=True)"
   ]
  },
  {
   "cell_type": "markdown",
   "metadata": {
    "tags": []
   },
   "source": [
    "* _One-Hot Encoding the categorical (text) features_"
   ]
  },
  {
   "cell_type": "code",
   "execution_count": 10,
   "metadata": {
    "tags": []
   },
   "outputs": [],
   "source": [
    "# put the names into a python list - for pandas.get_dummies()\n",
    "categori = combined_df.select_dtypes(include=['object']).columns\n",
    "category_cols = categori.tolist()\n",
    "#print(category_cols)"
   ]
  },
  {
   "cell_type": "code",
   "execution_count": 11,
   "metadata": {
    "tags": []
   },
   "outputs": [],
   "source": [
    "# Apply to the list of Categorical columns (text fields)\n",
    "features_df = pandas.get_dummies(combined_df, columns=category_cols)\n",
    "#features_df.info()"
   ]
  },
  {
   "cell_type": "code",
   "execution_count": 12,
   "metadata": {
    "tags": []
   },
   "outputs": [],
   "source": [
    "# generate a list of numeric columns for scaling - After test // train split\n",
    "numeri = combined_df.select_dtypes(include=['float64','int64']).columns\n",
    "#print(numeri.to_list())"
   ]
  },
  {
   "cell_type": "markdown",
   "metadata": {
    "colab_type": "text",
    "id": "Cpzuyj7gxwCg",
    "tags": []
   },
   "source": [
    "***\n",
    "**<br>Create Test // Train Datasets**\n",
    "> Normally we split the dataset into train 70 % // test 30 % like this\n",
    "<br>`from sklearn.model_selection import train_test_split`\n",
    "<br>`X_train, X_test, y_train, y_test = `\n",
    "<br>`    train_test_split(features_df, labels_df, `\n",
    "<br>`        test_size=0.3, stratify=labels_df, random_state=42)`"
   ]
  },
  {
   "cell_type": "code",
   "execution_count": 13,
   "metadata": {
    "tags": []
   },
   "outputs": [],
   "source": [
    "# Restore the train // test split: slice 1 Dataframe into 2 \n",
    "features_train = features_df.iloc[:len(train_df),:].copy()    # X_train\n",
    "features_train.reset_index(inplace=True, drop=True)\n",
    "# pandas has a lot of rules about returning a 'view' vs. a copy from slice\n",
    "# so we force it to create a new dataframe [avoiding SettingWithCopy Warning]\n",
    "features_test = features_df.iloc[len(train_df):,:].copy()     # X_test\n",
    "features_test.reset_index(inplace=True, drop=True)\n",
    "\n",
    "# Restore the train // test split: slice 1 Series into 2 \n",
    "labels_train = labels_df[:len(train_df)]               # y_train\n",
    "labels_train.reset_index(inplace=True, drop=True)\n",
    "\n",
    "labels_test = labels_df[len(train_df):]                # y_test\n",
    "labels_test.reset_index(inplace=True, drop=True)"
   ]
  },
  {
   "cell_type": "markdown",
   "metadata": {
    "tags": []
   },
   "source": [
    "***\n",
    "Next are standard steps for all datasets: _scaling, classifiers, results_"
   ]
  },
  {
   "cell_type": "markdown",
   "metadata": {
    "colab_type": "text",
    "id": "Cpzuyj7gxwCg",
    "tags": []
   },
   "source": [
    "**Scaling** comes _after_ test // train split"
   ]
  },
  {
   "cell_type": "code",
   "execution_count": 14,
   "metadata": {
    "jupyter": {
     "source_hidden": true
    },
    "tags": []
   },
   "outputs": [],
   "source": [
    "# scaling the Numeric columns \n",
    "# StandardScaler range: -1 to 1, MinMaxScaler range: zero to 1\n",
    "\n",
    "# from sklearn.preprocessing import StandardScaler\n",
    "from sklearn.preprocessing import MinMaxScaler\n",
    "\n",
    "# sklearn docs say \n",
    "#   \"Don't cheat - fit only on training data, then transform both\"\n",
    "#   fit() expects 2D array: reshape(-1, 1) for single col or (1, -1) single row\n",
    "\n",
    "for i in numeri:\n",
    "    arr = numpy.array(features_train[i])\n",
    "    scale = MinMaxScaler().fit(arr.reshape(-1, 1))\n",
    "    features_train[i] = scale.transform(arr.reshape(len(arr),1))\n",
    "\n",
    "    arr = numpy.array(features_test[i])\n",
    "    features_test[i] = scale.transform(arr.reshape(len(arr),1))"
   ]
  },
  {
   "cell_type": "markdown",
   "metadata": {
    "colab_type": "text",
    "id": "Cpzuyj7gxwCg",
    "tags": []
   },
   "source": [
    "**<br>Classifier Selection**"
   ]
  },
  {
   "cell_type": "code",
   "execution_count": 15,
   "metadata": {
    "tags": []
   },
   "outputs": [
    {
     "name": "stdout",
     "output_type": "stream",
     "text": [
      "[('StocGradDes', SGDClassifier()), ('LinearDA', LinearDiscriminantAnalysis()), ('LinearSVC', LinearSVC()), ('RidgeClf', RidgeClassifier()), ('DecisionTree', DecisionTreeClassifier()), ('RandomForest', RandomForestClassifier())]\n"
     ]
    }
   ],
   "source": [
    "# prepare list\n",
    "models = []\n",
    "\n",
    "##  --  Linear  --  ## \n",
    "#from sklearn.linear_model import LogisticRegression \n",
    "#models.append ((\"LogReg\",LogisticRegression())) \n",
    "from sklearn.linear_model import SGDClassifier \n",
    "models.append ((\"StocGradDes\",SGDClassifier())) \n",
    "from sklearn.discriminant_analysis import LinearDiscriminantAnalysis \n",
    "models.append((\"LinearDA\", LinearDiscriminantAnalysis())) \n",
    "#from sklearn.discriminant_analysis import QuadraticDiscriminantAnalysis \n",
    "#models.append((\"QuadraticDA\", QuadraticDiscriminantAnalysis())) \n",
    "\n",
    "##  --  Support Vector  --  ## \n",
    "#from sklearn.svm import SVC \n",
    "#models.append((\"SupportVectorClf\", SVC())) \n",
    "from sklearn.svm import LinearSVC \n",
    "models.append((\"LinearSVC\", LinearSVC())) \n",
    "from sklearn.linear_model import RidgeClassifier\n",
    "models.append ((\"RidgeClf\",RidgeClassifier())) \n",
    "\n",
    "##  --  Non-linear  --  ## \n",
    "from sklearn.tree import DecisionTreeClassifier \n",
    "models.append ((\"DecisionTree\",DecisionTreeClassifier())) \n",
    "#from sklearn.naive_bayes import GaussianNB \n",
    "#models.append ((\"GaussianNB\",GaussianNB())) \n",
    "#from sklearn.neighbors import KNeighborsClassifier \n",
    "#models.append((\"K-NNeighbors\", KNeighborsClassifier())) \n",
    "\n",
    "##  --  Ensemble: bagging  --  ## \n",
    "from sklearn.ensemble import RandomForestClassifier \n",
    "models.append((\"RandomForest\", RandomForestClassifier())) \n",
    "##  --  Ensemble: boosting  --  ## \n",
    "#from sklearn.ensemble import AdaBoostClassifier \n",
    "#models.append((\"AdaBoost\", AdaBoostClassifier())) \n",
    "#from sklearn.ensemble import GradientBoostingClassifier \n",
    "#models.append((\"GradientBoost\", GradientBoostingClassifier())) \n",
    "\n",
    "##  --  NeuralNet (simplest)  --  ## \n",
    "#from sklearn.linear_model import Perceptron \n",
    "#models.append ((\"SingleLayerPtron\",Perceptron())) \n",
    "#from sklearn.neural_network import MLPClassifier \n",
    "#models.append((\"MultiLayerPtron\", MLPClassifier())) \n",
    "\n",
    "print(models)"
   ]
  },
  {
   "cell_type": "markdown",
   "metadata": {},
   "source": [
    "<br>_compatibility block for pasting in from sample code_"
   ]
  },
  {
   "cell_type": "code",
   "execution_count": 16,
   "metadata": {
    "tags": []
   },
   "outputs": [],
   "source": [
    "# dataset names\n",
    "X_train = features_train\n",
    "y_train = labels_train\n",
    "X_test = features_test\n",
    "y_test = labels_test\n",
    "labels_col = 'label'\n",
    "# library names\n",
    "pd = pandas\n",
    "np = numpy"
   ]
  },
  {
   "cell_type": "markdown",
   "metadata": {
    "tags": []
   },
   "source": [
    "**<br>Target Label Distributions** (standard block)"
   ]
  },
  {
   "cell_type": "code",
   "execution_count": 17,
   "metadata": {},
   "outputs": [
    {
     "name": "stdout",
     "output_type": "stream",
     "text": [
      "features_train: 63280 rows, 121 columns\n",
      "features_test:  22544 rows, 121 columns\n",
      "\n",
      "labels_train: 63280 rows, 1 column\n",
      "labels_test:  22544 rows, 1 column\n",
      "\n",
      "Frequency and Distribution of labels\n",
      "        label  %_train  label  %_test\n",
      "normal  33672    53.21   9711   43.08\n",
      "attack  29608    46.79  12833   56.92\n"
     ]
    }
   ],
   "source": [
    "# from our local library\n",
    "show_labels_dist(X_train,X_test,y_train,y_test)"
   ]
  },
  {
   "cell_type": "markdown",
   "metadata": {
    "colab_type": "text",
    "id": "Cpzuyj7gxwCg"
   },
   "source": [
    "**<br>Fit and Predict** (standard block)"
   ]
  },
  {
   "cell_type": "code",
   "execution_count": 18,
   "metadata": {
    "tags": []
   },
   "outputs": [
    {
     "name": "stdout",
     "output_type": "stream",
     "text": [
      "\n",
      "Confusion Matrix: StocGradDes\n",
      "Run Time 0.9 seconds\n",
      "              pred:attack  pred:normal\n",
      "train:attack         8484         4349\n",
      "train:normal          755         8956\n",
      "\n",
      "Confusion Matrix: LinearDA\n",
      "Run Time 4.34 seconds\n",
      "              pred:attack  pred:normal\n",
      "train:attack         8346         4487\n",
      "train:normal          663         9048\n",
      "\n",
      "Confusion Matrix: LinearSVC\n",
      "Run Time 4.3 seconds\n",
      "              pred:attack  pred:normal\n",
      "train:attack         8317         4516\n",
      "train:normal          735         8976\n",
      "\n",
      "Confusion Matrix: RidgeClf\n",
      "Run Time 1.12 seconds\n",
      "              pred:attack  pred:normal\n",
      "train:attack         8345         4488\n",
      "train:normal          664         9047\n",
      "\n",
      "Confusion Matrix: DecisionTree\n",
      "Run Time 3.42 seconds\n",
      "              pred:attack  pred:normal\n",
      "train:attack        10995         1838\n",
      "train:normal          916         8795\n",
      "\n",
      "Confusion Matrix: RandomForest\n",
      "Run Time 26.69 seconds\n",
      "              pred:attack  pred:normal\n",
      "train:attack        10611         2222\n",
      "train:normal          875         8836\n"
     ]
    }
   ],
   "source": [
    "# evaluate each model in turn\n",
    "results = []\n",
    "from sklearn.metrics import confusion_matrix\n",
    "#print('macro average: unweighted mean per label')\n",
    "#print('weighted average: support-weighted mean per label')\n",
    "#print('MCC: correlation between prediction and ground truth')\n",
    "#print('     (+1 perfect, 0 random prediction, -1 inverse)\\n')\n",
    "\n",
    "for name, clf in models:\n",
    "    trs = time()\n",
    "    print('\\nConfusion Matrix:', name)\n",
    "    \n",
    "    clf.fit(X_train, y_train)\n",
    "    ygx = clf.predict(X_test)\n",
    "    results.append((name, ygx))\n",
    "    \n",
    "    tre = time() - trs\n",
    "    print (\"Run Time {} seconds\".format(round(tre,2)))\n",
    "    \n",
    "# Easy way to ensure that the confusion matrix rows and columns\n",
    "#   are labeled exactly as the classifier has coded the classes\n",
    "#   [[note the _ at the end of clf.classes_ ]]\n",
    "\n",
    "    tptn_df = pd.DataFrame(confusion_matrix(y_test, ygx, labels=clf.classes_), \n",
    "                           index=['train:{:}'.format(x) for x in clf.classes_], \n",
    "                           columns=['pred:{:}'.format(x) for x in clf.classes_])\n",
    "    print(tptn_df)  \n",
    "\n",
    "#    show_metrics(y_test, ygx, clf.classes_)   # from our local library\n",
    "#    print('\\nParameters: ', clf.get_params(), '\\n\\n')"
   ]
  },
  {
   "cell_type": "markdown",
   "metadata": {},
   "source": [
    "***"
   ]
  },
  {
   "cell_type": "markdown",
   "metadata": {
    "tags": []
   },
   "source": [
    "***"
   ]
  },
  {
   "cell_type": "markdown",
   "metadata": {
    "colab_type": "text",
    "id": "Cpzuyj7gxwCg"
   },
   "source": [
    "**<br>Baseline Model**\n",
    ">Select this block - Go to the Run menu - Run all Above"
   ]
  },
  {
   "cell_type": "markdown",
   "metadata": {},
   "source": [
    "***"
   ]
  },
  {
   "cell_type": "code",
   "execution_count": null,
   "metadata": {},
   "outputs": [],
   "source": []
  },
  {
   "cell_type": "markdown",
   "metadata": {
    "colab_type": "text",
    "id": "Cpzuyj7gxwCg"
   },
   "source": [
    "***\n",
    "**Statistical Comparison of Models**\n",
    "<br>The the null hypothesis statement:\n",
    ">H0: Both models perform equally well on the dataset.\n",
    "<br>H1: Both models do not have the same performance on the dataset.\n",
    "\n",
    "Chosen significance threshold is `alpha = 0.05` for rejecting the null hypothesis.\n",
    "***"
   ]
  },
  {
   "cell_type": "markdown",
   "metadata": {},
   "source": [
    "* Cochran's Q omnibus test<br>\n",
    "* McNemar post-hoc with multiple adjustments"
   ]
  },
  {
   "cell_type": "code",
   "execution_count": 19,
   "metadata": {},
   "outputs": [],
   "source": [
    "# nonparametric tests for multiple classifiers trained on one dataset\n",
    "from P_HAKN import cq_mph, filtr_ap2h0, filtr_psig  "
   ]
  },
  {
   "cell_type": "code",
   "execution_count": 20,
   "metadata": {},
   "outputs": [
    {
     "name": "stdout",
     "output_type": "stream",
     "text": [
      "Cochran Q Test: ['StocGradDes', 'LinearDA', 'LinearSVC', 'RidgeClf', 'DecisionTree', 'RandomForest']\n",
      "\tp_value = 0.0 and ChiSquare = 7432.861 \n",
      "\n",
      "H0: there is no difference in performance at the 95.0% confidence level\n",
      "\tReject - Continuing with post-hoc tests\n",
      "\n",
      "Classifiers: 6    Tests: 15\n"
     ]
    },
    {
     "name": "stderr",
     "output_type": "stream",
     "text": [
      "D:\\conda\\lib\\site-packages\\mlxtend\\evaluate\\cochrans_q.py:71: RuntimeWarning: overflow encountered in long_scalars\n",
      "  num_models * sum([c**2 for c in correctly_classified_collection])\n"
     ]
    },
    {
     "data": {
      "text/html": [
       "<div>\n",
       "<style scoped>\n",
       "    .dataframe tbody tr th:only-of-type {\n",
       "        vertical-align: middle;\n",
       "    }\n",
       "\n",
       "    .dataframe tbody tr th {\n",
       "        vertical-align: top;\n",
       "    }\n",
       "\n",
       "    .dataframe thead th {\n",
       "        text-align: right;\n",
       "    }\n",
       "</style>\n",
       "<table border=\"1\" class=\"dataframe\">\n",
       "  <thead>\n",
       "    <tr style=\"text-align: right;\">\n",
       "      <th></th>\n",
       "      <th>p_noadj</th>\n",
       "      <th>ap_BDun</th>\n",
       "      <th>ap_Sdak</th>\n",
       "      <th>ap_Holm</th>\n",
       "      <th>ap_Finr</th>\n",
       "      <th>ap_Hoch</th>\n",
       "      <th>ap_Li</th>\n",
       "    </tr>\n",
       "  </thead>\n",
       "  <tbody>\n",
       "    <tr>\n",
       "      <th>StocGradDes // DecisionTree</th>\n",
       "      <td>0.000000e+00</td>\n",
       "      <td>0.000000e+00</td>\n",
       "      <td>0.000000e+00</td>\n",
       "      <td>0.000000e+00</td>\n",
       "      <td>0.000000e+00</td>\n",
       "      <td>0.000000e+00</td>\n",
       "      <td>0.000000e+00</td>\n",
       "    </tr>\n",
       "    <tr>\n",
       "      <th>StocGradDes // RandomForest</th>\n",
       "      <td>0.000000e+00</td>\n",
       "      <td>0.000000e+00</td>\n",
       "      <td>0.000000e+00</td>\n",
       "      <td>0.000000e+00</td>\n",
       "      <td>0.000000e+00</td>\n",
       "      <td>0.000000e+00</td>\n",
       "      <td>0.000000e+00</td>\n",
       "    </tr>\n",
       "    <tr>\n",
       "      <th>LinearDA // DecisionTree</th>\n",
       "      <td>0.000000e+00</td>\n",
       "      <td>0.000000e+00</td>\n",
       "      <td>0.000000e+00</td>\n",
       "      <td>0.000000e+00</td>\n",
       "      <td>0.000000e+00</td>\n",
       "      <td>0.000000e+00</td>\n",
       "      <td>0.000000e+00</td>\n",
       "    </tr>\n",
       "    <tr>\n",
       "      <th>LinearDA // RandomForest</th>\n",
       "      <td>0.000000e+00</td>\n",
       "      <td>0.000000e+00</td>\n",
       "      <td>0.000000e+00</td>\n",
       "      <td>0.000000e+00</td>\n",
       "      <td>0.000000e+00</td>\n",
       "      <td>0.000000e+00</td>\n",
       "      <td>0.000000e+00</td>\n",
       "    </tr>\n",
       "    <tr>\n",
       "      <th>LinearSVC // DecisionTree</th>\n",
       "      <td>0.000000e+00</td>\n",
       "      <td>0.000000e+00</td>\n",
       "      <td>0.000000e+00</td>\n",
       "      <td>0.000000e+00</td>\n",
       "      <td>0.000000e+00</td>\n",
       "      <td>0.000000e+00</td>\n",
       "      <td>0.000000e+00</td>\n",
       "    </tr>\n",
       "    <tr>\n",
       "      <th>LinearSVC // RandomForest</th>\n",
       "      <td>0.000000e+00</td>\n",
       "      <td>0.000000e+00</td>\n",
       "      <td>0.000000e+00</td>\n",
       "      <td>0.000000e+00</td>\n",
       "      <td>0.000000e+00</td>\n",
       "      <td>0.000000e+00</td>\n",
       "      <td>0.000000e+00</td>\n",
       "    </tr>\n",
       "    <tr>\n",
       "      <th>RidgeClf // DecisionTree</th>\n",
       "      <td>0.000000e+00</td>\n",
       "      <td>0.000000e+00</td>\n",
       "      <td>0.000000e+00</td>\n",
       "      <td>0.000000e+00</td>\n",
       "      <td>0.000000e+00</td>\n",
       "      <td>0.000000e+00</td>\n",
       "      <td>0.000000e+00</td>\n",
       "    </tr>\n",
       "    <tr>\n",
       "      <th>RidgeClf // RandomForest</th>\n",
       "      <td>0.000000e+00</td>\n",
       "      <td>0.000000e+00</td>\n",
       "      <td>0.000000e+00</td>\n",
       "      <td>0.000000e+00</td>\n",
       "      <td>0.000000e+00</td>\n",
       "      <td>0.000000e+00</td>\n",
       "      <td>0.000000e+00</td>\n",
       "    </tr>\n",
       "    <tr>\n",
       "      <th>DecisionTree // RandomForest</th>\n",
       "      <td>6.515636e-21</td>\n",
       "      <td>9.773453e-20</td>\n",
       "      <td>0.000000e+00</td>\n",
       "      <td>4.560945e-20</td>\n",
       "      <td>0.000000e+00</td>\n",
       "      <td>4.560945e-20</td>\n",
       "      <td>1.251803e-20</td>\n",
       "    </tr>\n",
       "    <tr>\n",
       "      <th>StocGradDes // LinearSVC</th>\n",
       "      <td>6.275246e-17</td>\n",
       "      <td>9.412869e-16</td>\n",
       "      <td>1.665335e-15</td>\n",
       "      <td>3.765148e-16</td>\n",
       "      <td>1.110223e-16</td>\n",
       "      <td>3.765148e-16</td>\n",
       "      <td>1.205619e-16</td>\n",
       "    </tr>\n",
       "    <tr>\n",
       "      <th>LinearDA // LinearSVC</th>\n",
       "      <td>1.542161e-06</td>\n",
       "      <td>2.313242e-05</td>\n",
       "      <td>2.313217e-05</td>\n",
       "      <td>7.710807e-06</td>\n",
       "      <td>2.102947e-06</td>\n",
       "      <td>7.710807e-06</td>\n",
       "      <td>2.962838e-06</td>\n",
       "    </tr>\n",
       "    <tr>\n",
       "      <th>LinearSVC // RidgeClf</th>\n",
       "      <td>2.617710e-06</td>\n",
       "      <td>3.926565e-05</td>\n",
       "      <td>3.926493e-05</td>\n",
       "      <td>1.047084e-05</td>\n",
       "      <td>3.272136e-06</td>\n",
       "      <td>1.047084e-05</td>\n",
       "      <td>5.029198e-06</td>\n",
       "    </tr>\n",
       "    <tr>\n",
       "      <th>StocGradDes // RidgeClf</th>\n",
       "      <td>1.936975e-02</td>\n",
       "      <td>2.905463e-01</td>\n",
       "      <td>2.542740e-01</td>\n",
       "      <td>5.810926e-02</td>\n",
       "      <td>2.231623e-02</td>\n",
       "      <td>5.033348e-02</td>\n",
       "      <td>3.587857e-02</td>\n",
       "    </tr>\n",
       "    <tr>\n",
       "      <th>StocGradDes // LinearDA</th>\n",
       "      <td>2.516674e-02</td>\n",
       "      <td>3.775011e-01</td>\n",
       "      <td>3.177319e-01</td>\n",
       "      <td>5.810926e-02</td>\n",
       "      <td>2.693994e-02</td>\n",
       "      <td>5.033348e-02</td>\n",
       "      <td>4.612109e-02</td>\n",
       "    </tr>\n",
       "    <tr>\n",
       "      <th>LinearDA // RidgeClf</th>\n",
       "      <td>4.795001e-01</td>\n",
       "      <td>1.000000e+00</td>\n",
       "      <td>9.999442e-01</td>\n",
       "      <td>4.795001e-01</td>\n",
       "      <td>4.795001e-01</td>\n",
       "      <td>4.795001e-01</td>\n",
       "      <td>4.795001e-01</td>\n",
       "    </tr>\n",
       "  </tbody>\n",
       "</table>\n",
       "</div>"
      ],
      "text/plain": [
       "                                   p_noadj       ap_BDun       ap_Sdak  \\\n",
       "StocGradDes // DecisionTree   0.000000e+00  0.000000e+00  0.000000e+00   \n",
       "StocGradDes // RandomForest   0.000000e+00  0.000000e+00  0.000000e+00   \n",
       "LinearDA // DecisionTree      0.000000e+00  0.000000e+00  0.000000e+00   \n",
       "LinearDA // RandomForest      0.000000e+00  0.000000e+00  0.000000e+00   \n",
       "LinearSVC // DecisionTree     0.000000e+00  0.000000e+00  0.000000e+00   \n",
       "LinearSVC // RandomForest     0.000000e+00  0.000000e+00  0.000000e+00   \n",
       "RidgeClf // DecisionTree      0.000000e+00  0.000000e+00  0.000000e+00   \n",
       "RidgeClf // RandomForest      0.000000e+00  0.000000e+00  0.000000e+00   \n",
       "DecisionTree // RandomForest  6.515636e-21  9.773453e-20  0.000000e+00   \n",
       "StocGradDes // LinearSVC      6.275246e-17  9.412869e-16  1.665335e-15   \n",
       "LinearDA // LinearSVC         1.542161e-06  2.313242e-05  2.313217e-05   \n",
       "LinearSVC // RidgeClf         2.617710e-06  3.926565e-05  3.926493e-05   \n",
       "StocGradDes // RidgeClf       1.936975e-02  2.905463e-01  2.542740e-01   \n",
       "StocGradDes // LinearDA       2.516674e-02  3.775011e-01  3.177319e-01   \n",
       "LinearDA // RidgeClf          4.795001e-01  1.000000e+00  9.999442e-01   \n",
       "\n",
       "                                   ap_Holm       ap_Finr       ap_Hoch  \\\n",
       "StocGradDes // DecisionTree   0.000000e+00  0.000000e+00  0.000000e+00   \n",
       "StocGradDes // RandomForest   0.000000e+00  0.000000e+00  0.000000e+00   \n",
       "LinearDA // DecisionTree      0.000000e+00  0.000000e+00  0.000000e+00   \n",
       "LinearDA // RandomForest      0.000000e+00  0.000000e+00  0.000000e+00   \n",
       "LinearSVC // DecisionTree     0.000000e+00  0.000000e+00  0.000000e+00   \n",
       "LinearSVC // RandomForest     0.000000e+00  0.000000e+00  0.000000e+00   \n",
       "RidgeClf // DecisionTree      0.000000e+00  0.000000e+00  0.000000e+00   \n",
       "RidgeClf // RandomForest      0.000000e+00  0.000000e+00  0.000000e+00   \n",
       "DecisionTree // RandomForest  4.560945e-20  0.000000e+00  4.560945e-20   \n",
       "StocGradDes // LinearSVC      3.765148e-16  1.110223e-16  3.765148e-16   \n",
       "LinearDA // LinearSVC         7.710807e-06  2.102947e-06  7.710807e-06   \n",
       "LinearSVC // RidgeClf         1.047084e-05  3.272136e-06  1.047084e-05   \n",
       "StocGradDes // RidgeClf       5.810926e-02  2.231623e-02  5.033348e-02   \n",
       "StocGradDes // LinearDA       5.810926e-02  2.693994e-02  5.033348e-02   \n",
       "LinearDA // RidgeClf          4.795001e-01  4.795001e-01  4.795001e-01   \n",
       "\n",
       "                                     ap_Li  \n",
       "StocGradDes // DecisionTree   0.000000e+00  \n",
       "StocGradDes // RandomForest   0.000000e+00  \n",
       "LinearDA // DecisionTree      0.000000e+00  \n",
       "LinearDA // RandomForest      0.000000e+00  \n",
       "LinearSVC // DecisionTree     0.000000e+00  \n",
       "LinearSVC // RandomForest     0.000000e+00  \n",
       "RidgeClf // DecisionTree      0.000000e+00  \n",
       "RidgeClf // RandomForest      0.000000e+00  \n",
       "DecisionTree // RandomForest  1.251803e-20  \n",
       "StocGradDes // LinearSVC      1.205619e-16  \n",
       "LinearDA // LinearSVC         2.962838e-06  \n",
       "LinearSVC // RidgeClf         5.029198e-06  \n",
       "StocGradDes // RidgeClf       3.587857e-02  \n",
       "StocGradDes // LinearDA       4.612109e-02  \n",
       "LinearDA // RidgeClf          4.795001e-01  "
      ]
     },
     "execution_count": 20,
     "metadata": {},
     "output_type": "execute_result"
    }
   ],
   "source": [
    "ph_pvals_df = cq_mph(y_test,results)\n",
    "ph_pvals_df"
   ]
  },
  {
   "cell_type": "code",
   "execution_count": 21,
   "metadata": {},
   "outputs": [
    {
     "data": {
      "text/html": [
       "<div>\n",
       "<style scoped>\n",
       "    .dataframe tbody tr th:only-of-type {\n",
       "        vertical-align: middle;\n",
       "    }\n",
       "\n",
       "    .dataframe tbody tr th {\n",
       "        vertical-align: top;\n",
       "    }\n",
       "\n",
       "    .dataframe thead th {\n",
       "        text-align: right;\n",
       "    }\n",
       "</style>\n",
       "<table border=\"1\" class=\"dataframe\">\n",
       "  <thead>\n",
       "    <tr style=\"text-align: right;\">\n",
       "      <th></th>\n",
       "      <th>p_noadj</th>\n",
       "      <th>H0: BDun</th>\n",
       "      <th>H0: Sdak</th>\n",
       "      <th>H0: Holm</th>\n",
       "      <th>H0: Finr</th>\n",
       "      <th>H0: Hoch</th>\n",
       "      <th>H0: Li</th>\n",
       "    </tr>\n",
       "  </thead>\n",
       "  <tbody>\n",
       "    <tr>\n",
       "      <th>StocGradDes // DecisionTree</th>\n",
       "      <td>False</td>\n",
       "      <td>False</td>\n",
       "      <td>False</td>\n",
       "      <td>False</td>\n",
       "      <td>False</td>\n",
       "      <td>False</td>\n",
       "      <td>False</td>\n",
       "    </tr>\n",
       "    <tr>\n",
       "      <th>StocGradDes // RandomForest</th>\n",
       "      <td>False</td>\n",
       "      <td>False</td>\n",
       "      <td>False</td>\n",
       "      <td>False</td>\n",
       "      <td>False</td>\n",
       "      <td>False</td>\n",
       "      <td>False</td>\n",
       "    </tr>\n",
       "    <tr>\n",
       "      <th>LinearDA // DecisionTree</th>\n",
       "      <td>False</td>\n",
       "      <td>False</td>\n",
       "      <td>False</td>\n",
       "      <td>False</td>\n",
       "      <td>False</td>\n",
       "      <td>False</td>\n",
       "      <td>False</td>\n",
       "    </tr>\n",
       "    <tr>\n",
       "      <th>LinearDA // RandomForest</th>\n",
       "      <td>False</td>\n",
       "      <td>False</td>\n",
       "      <td>False</td>\n",
       "      <td>False</td>\n",
       "      <td>False</td>\n",
       "      <td>False</td>\n",
       "      <td>False</td>\n",
       "    </tr>\n",
       "    <tr>\n",
       "      <th>LinearSVC // DecisionTree</th>\n",
       "      <td>False</td>\n",
       "      <td>False</td>\n",
       "      <td>False</td>\n",
       "      <td>False</td>\n",
       "      <td>False</td>\n",
       "      <td>False</td>\n",
       "      <td>False</td>\n",
       "    </tr>\n",
       "    <tr>\n",
       "      <th>LinearSVC // RandomForest</th>\n",
       "      <td>False</td>\n",
       "      <td>False</td>\n",
       "      <td>False</td>\n",
       "      <td>False</td>\n",
       "      <td>False</td>\n",
       "      <td>False</td>\n",
       "      <td>False</td>\n",
       "    </tr>\n",
       "    <tr>\n",
       "      <th>RidgeClf // DecisionTree</th>\n",
       "      <td>False</td>\n",
       "      <td>False</td>\n",
       "      <td>False</td>\n",
       "      <td>False</td>\n",
       "      <td>False</td>\n",
       "      <td>False</td>\n",
       "      <td>False</td>\n",
       "    </tr>\n",
       "    <tr>\n",
       "      <th>RidgeClf // RandomForest</th>\n",
       "      <td>False</td>\n",
       "      <td>False</td>\n",
       "      <td>False</td>\n",
       "      <td>False</td>\n",
       "      <td>False</td>\n",
       "      <td>False</td>\n",
       "      <td>False</td>\n",
       "    </tr>\n",
       "    <tr>\n",
       "      <th>DecisionTree // RandomForest</th>\n",
       "      <td>False</td>\n",
       "      <td>False</td>\n",
       "      <td>False</td>\n",
       "      <td>False</td>\n",
       "      <td>False</td>\n",
       "      <td>False</td>\n",
       "      <td>False</td>\n",
       "    </tr>\n",
       "    <tr>\n",
       "      <th>StocGradDes // LinearSVC</th>\n",
       "      <td>False</td>\n",
       "      <td>False</td>\n",
       "      <td>False</td>\n",
       "      <td>False</td>\n",
       "      <td>False</td>\n",
       "      <td>False</td>\n",
       "      <td>False</td>\n",
       "    </tr>\n",
       "    <tr>\n",
       "      <th>LinearDA // LinearSVC</th>\n",
       "      <td>False</td>\n",
       "      <td>False</td>\n",
       "      <td>False</td>\n",
       "      <td>False</td>\n",
       "      <td>False</td>\n",
       "      <td>False</td>\n",
       "      <td>False</td>\n",
       "    </tr>\n",
       "    <tr>\n",
       "      <th>LinearSVC // RidgeClf</th>\n",
       "      <td>False</td>\n",
       "      <td>False</td>\n",
       "      <td>False</td>\n",
       "      <td>False</td>\n",
       "      <td>False</td>\n",
       "      <td>False</td>\n",
       "      <td>False</td>\n",
       "    </tr>\n",
       "    <tr>\n",
       "      <th>StocGradDes // RidgeClf</th>\n",
       "      <td>False</td>\n",
       "      <td>True</td>\n",
       "      <td>True</td>\n",
       "      <td>True</td>\n",
       "      <td>False</td>\n",
       "      <td>True</td>\n",
       "      <td>False</td>\n",
       "    </tr>\n",
       "    <tr>\n",
       "      <th>StocGradDes // LinearDA</th>\n",
       "      <td>False</td>\n",
       "      <td>True</td>\n",
       "      <td>True</td>\n",
       "      <td>True</td>\n",
       "      <td>False</td>\n",
       "      <td>True</td>\n",
       "      <td>False</td>\n",
       "    </tr>\n",
       "    <tr>\n",
       "      <th>LinearDA // RidgeClf</th>\n",
       "      <td>True</td>\n",
       "      <td>True</td>\n",
       "      <td>True</td>\n",
       "      <td>True</td>\n",
       "      <td>True</td>\n",
       "      <td>True</td>\n",
       "      <td>True</td>\n",
       "    </tr>\n",
       "  </tbody>\n",
       "</table>\n",
       "</div>"
      ],
      "text/plain": [
       "                              p_noadj  H0: BDun  H0: Sdak  H0: Holm  H0: Finr  \\\n",
       "StocGradDes // DecisionTree     False     False     False     False     False   \n",
       "StocGradDes // RandomForest     False     False     False     False     False   \n",
       "LinearDA // DecisionTree        False     False     False     False     False   \n",
       "LinearDA // RandomForest        False     False     False     False     False   \n",
       "LinearSVC // DecisionTree       False     False     False     False     False   \n",
       "LinearSVC // RandomForest       False     False     False     False     False   \n",
       "RidgeClf // DecisionTree        False     False     False     False     False   \n",
       "RidgeClf // RandomForest        False     False     False     False     False   \n",
       "DecisionTree // RandomForest    False     False     False     False     False   \n",
       "StocGradDes // LinearSVC        False     False     False     False     False   \n",
       "LinearDA // LinearSVC           False     False     False     False     False   \n",
       "LinearSVC // RidgeClf           False     False     False     False     False   \n",
       "StocGradDes // RidgeClf         False      True      True      True     False   \n",
       "StocGradDes // LinearDA         False      True      True      True     False   \n",
       "LinearDA // RidgeClf             True      True      True      True      True   \n",
       "\n",
       "                              H0: Hoch  H0: Li  \n",
       "StocGradDes // DecisionTree      False   False  \n",
       "StocGradDes // RandomForest      False   False  \n",
       "LinearDA // DecisionTree         False   False  \n",
       "LinearDA // RandomForest         False   False  \n",
       "LinearSVC // DecisionTree        False   False  \n",
       "LinearSVC // RandomForest        False   False  \n",
       "RidgeClf // DecisionTree         False   False  \n",
       "RidgeClf // RandomForest         False   False  \n",
       "DecisionTree // RandomForest     False   False  \n",
       "StocGradDes // LinearSVC         False   False  \n",
       "LinearDA // LinearSVC            False   False  \n",
       "LinearSVC // RidgeClf            False   False  \n",
       "StocGradDes // RidgeClf           True   False  \n",
       "StocGradDes // LinearDA           True   False  \n",
       "LinearDA // RidgeClf              True    True  "
      ]
     },
     "execution_count": 21,
     "metadata": {},
     "output_type": "execute_result"
    }
   ],
   "source": [
    "zz=filtr_ap2h0(ph_pvals_df)\n",
    "zz"
   ]
  },
  {
   "cell_type": "code",
   "execution_count": null,
   "metadata": {},
   "outputs": [],
   "source": []
  },
  {
   "cell_type": "markdown",
   "metadata": {},
   "source": [
    "For analysis it may be useful to consider just the pairs with significant differences"
   ]
  },
  {
   "cell_type": "code",
   "execution_count": 22,
   "metadata": {},
   "outputs": [
    {
     "name": "stdout",
     "output_type": "stream",
     "text": [
      "subset: unadjusted p_value is significant\n",
      "Significant: 14    Not: 1\n",
      "Classifiers: 6    Tests: 14\n"
     ]
    },
    {
     "data": {
      "text/html": [
       "<div>\n",
       "<style scoped>\n",
       "    .dataframe tbody tr th:only-of-type {\n",
       "        vertical-align: middle;\n",
       "    }\n",
       "\n",
       "    .dataframe tbody tr th {\n",
       "        vertical-align: top;\n",
       "    }\n",
       "\n",
       "    .dataframe thead th {\n",
       "        text-align: right;\n",
       "    }\n",
       "</style>\n",
       "<table border=\"1\" class=\"dataframe\">\n",
       "  <thead>\n",
       "    <tr style=\"text-align: right;\">\n",
       "      <th></th>\n",
       "      <th>p_noadj</th>\n",
       "      <th>ap_BDun</th>\n",
       "      <th>ap_Sdak</th>\n",
       "      <th>ap_Holm</th>\n",
       "      <th>ap_Finr</th>\n",
       "      <th>ap_Hoch</th>\n",
       "      <th>ap_Li</th>\n",
       "    </tr>\n",
       "  </thead>\n",
       "  <tbody>\n",
       "    <tr>\n",
       "      <th>StocGradDes // DecisionTree</th>\n",
       "      <td>0.000000e+00</td>\n",
       "      <td>0.000000e+00</td>\n",
       "      <td>0.000000e+00</td>\n",
       "      <td>0.000000e+00</td>\n",
       "      <td>0.000000e+00</td>\n",
       "      <td>0.000000e+00</td>\n",
       "      <td>0.000000e+00</td>\n",
       "    </tr>\n",
       "    <tr>\n",
       "      <th>StocGradDes // RandomForest</th>\n",
       "      <td>0.000000e+00</td>\n",
       "      <td>0.000000e+00</td>\n",
       "      <td>0.000000e+00</td>\n",
       "      <td>0.000000e+00</td>\n",
       "      <td>0.000000e+00</td>\n",
       "      <td>0.000000e+00</td>\n",
       "      <td>0.000000e+00</td>\n",
       "    </tr>\n",
       "    <tr>\n",
       "      <th>LinearDA // DecisionTree</th>\n",
       "      <td>0.000000e+00</td>\n",
       "      <td>0.000000e+00</td>\n",
       "      <td>0.000000e+00</td>\n",
       "      <td>0.000000e+00</td>\n",
       "      <td>0.000000e+00</td>\n",
       "      <td>0.000000e+00</td>\n",
       "      <td>0.000000e+00</td>\n",
       "    </tr>\n",
       "    <tr>\n",
       "      <th>LinearDA // RandomForest</th>\n",
       "      <td>0.000000e+00</td>\n",
       "      <td>0.000000e+00</td>\n",
       "      <td>0.000000e+00</td>\n",
       "      <td>0.000000e+00</td>\n",
       "      <td>0.000000e+00</td>\n",
       "      <td>0.000000e+00</td>\n",
       "      <td>0.000000e+00</td>\n",
       "    </tr>\n",
       "    <tr>\n",
       "      <th>LinearSVC // DecisionTree</th>\n",
       "      <td>0.000000e+00</td>\n",
       "      <td>0.000000e+00</td>\n",
       "      <td>0.000000e+00</td>\n",
       "      <td>0.000000e+00</td>\n",
       "      <td>0.000000e+00</td>\n",
       "      <td>0.000000e+00</td>\n",
       "      <td>0.000000e+00</td>\n",
       "    </tr>\n",
       "    <tr>\n",
       "      <th>LinearSVC // RandomForest</th>\n",
       "      <td>0.000000e+00</td>\n",
       "      <td>0.000000e+00</td>\n",
       "      <td>0.000000e+00</td>\n",
       "      <td>0.000000e+00</td>\n",
       "      <td>0.000000e+00</td>\n",
       "      <td>0.000000e+00</td>\n",
       "      <td>0.000000e+00</td>\n",
       "    </tr>\n",
       "    <tr>\n",
       "      <th>RidgeClf // DecisionTree</th>\n",
       "      <td>0.000000e+00</td>\n",
       "      <td>0.000000e+00</td>\n",
       "      <td>0.000000e+00</td>\n",
       "      <td>0.000000e+00</td>\n",
       "      <td>0.000000e+00</td>\n",
       "      <td>0.000000e+00</td>\n",
       "      <td>0.000000e+00</td>\n",
       "    </tr>\n",
       "    <tr>\n",
       "      <th>RidgeClf // RandomForest</th>\n",
       "      <td>0.000000e+00</td>\n",
       "      <td>0.000000e+00</td>\n",
       "      <td>0.000000e+00</td>\n",
       "      <td>0.000000e+00</td>\n",
       "      <td>0.000000e+00</td>\n",
       "      <td>0.000000e+00</td>\n",
       "      <td>0.000000e+00</td>\n",
       "    </tr>\n",
       "    <tr>\n",
       "      <th>DecisionTree // RandomForest</th>\n",
       "      <td>6.515636e-21</td>\n",
       "      <td>9.121890e-20</td>\n",
       "      <td>0.000000e+00</td>\n",
       "      <td>3.909381e-20</td>\n",
       "      <td>0.000000e+00</td>\n",
       "      <td>3.909381e-20</td>\n",
       "      <td>6.683846e-21</td>\n",
       "    </tr>\n",
       "    <tr>\n",
       "      <th>StocGradDes // LinearSVC</th>\n",
       "      <td>6.275246e-17</td>\n",
       "      <td>8.785344e-16</td>\n",
       "      <td>1.554312e-15</td>\n",
       "      <td>3.137623e-16</td>\n",
       "      <td>1.110223e-16</td>\n",
       "      <td>3.137623e-16</td>\n",
       "      <td>6.437251e-17</td>\n",
       "    </tr>\n",
       "    <tr>\n",
       "      <th>LinearDA // LinearSVC</th>\n",
       "      <td>1.542161e-06</td>\n",
       "      <td>2.159026e-05</td>\n",
       "      <td>2.159004e-05</td>\n",
       "      <td>6.168646e-06</td>\n",
       "      <td>1.962751e-06</td>\n",
       "      <td>6.168646e-06</td>\n",
       "      <td>1.581972e-06</td>\n",
       "    </tr>\n",
       "    <tr>\n",
       "      <th>LinearSVC // RidgeClf</th>\n",
       "      <td>2.617710e-06</td>\n",
       "      <td>3.664794e-05</td>\n",
       "      <td>3.664732e-05</td>\n",
       "      <td>7.853130e-06</td>\n",
       "      <td>3.053994e-06</td>\n",
       "      <td>7.853130e-06</td>\n",
       "      <td>2.685283e-06</td>\n",
       "    </tr>\n",
       "    <tr>\n",
       "      <th>StocGradDes // RidgeClf</th>\n",
       "      <td>1.936975e-02</td>\n",
       "      <td>2.711765e-01</td>\n",
       "      <td>2.395442e-01</td>\n",
       "      <td>3.873950e-02</td>\n",
       "      <td>2.084410e-02</td>\n",
       "      <td>2.516674e-02</td>\n",
       "      <td>1.948269e-02</td>\n",
       "    </tr>\n",
       "    <tr>\n",
       "      <th>StocGradDes // LinearDA</th>\n",
       "      <td>2.516674e-02</td>\n",
       "      <td>3.523344e-01</td>\n",
       "      <td>3.001181e-01</td>\n",
       "      <td>3.873950e-02</td>\n",
       "      <td>2.516674e-02</td>\n",
       "      <td>2.516674e-02</td>\n",
       "      <td>2.516674e-02</td>\n",
       "    </tr>\n",
       "  </tbody>\n",
       "</table>\n",
       "</div>"
      ],
      "text/plain": [
       "                                   p_noadj       ap_BDun       ap_Sdak  \\\n",
       "StocGradDes // DecisionTree   0.000000e+00  0.000000e+00  0.000000e+00   \n",
       "StocGradDes // RandomForest   0.000000e+00  0.000000e+00  0.000000e+00   \n",
       "LinearDA // DecisionTree      0.000000e+00  0.000000e+00  0.000000e+00   \n",
       "LinearDA // RandomForest      0.000000e+00  0.000000e+00  0.000000e+00   \n",
       "LinearSVC // DecisionTree     0.000000e+00  0.000000e+00  0.000000e+00   \n",
       "LinearSVC // RandomForest     0.000000e+00  0.000000e+00  0.000000e+00   \n",
       "RidgeClf // DecisionTree      0.000000e+00  0.000000e+00  0.000000e+00   \n",
       "RidgeClf // RandomForest      0.000000e+00  0.000000e+00  0.000000e+00   \n",
       "DecisionTree // RandomForest  6.515636e-21  9.121890e-20  0.000000e+00   \n",
       "StocGradDes // LinearSVC      6.275246e-17  8.785344e-16  1.554312e-15   \n",
       "LinearDA // LinearSVC         1.542161e-06  2.159026e-05  2.159004e-05   \n",
       "LinearSVC // RidgeClf         2.617710e-06  3.664794e-05  3.664732e-05   \n",
       "StocGradDes // RidgeClf       1.936975e-02  2.711765e-01  2.395442e-01   \n",
       "StocGradDes // LinearDA       2.516674e-02  3.523344e-01  3.001181e-01   \n",
       "\n",
       "                                   ap_Holm       ap_Finr       ap_Hoch  \\\n",
       "StocGradDes // DecisionTree   0.000000e+00  0.000000e+00  0.000000e+00   \n",
       "StocGradDes // RandomForest   0.000000e+00  0.000000e+00  0.000000e+00   \n",
       "LinearDA // DecisionTree      0.000000e+00  0.000000e+00  0.000000e+00   \n",
       "LinearDA // RandomForest      0.000000e+00  0.000000e+00  0.000000e+00   \n",
       "LinearSVC // DecisionTree     0.000000e+00  0.000000e+00  0.000000e+00   \n",
       "LinearSVC // RandomForest     0.000000e+00  0.000000e+00  0.000000e+00   \n",
       "RidgeClf // DecisionTree      0.000000e+00  0.000000e+00  0.000000e+00   \n",
       "RidgeClf // RandomForest      0.000000e+00  0.000000e+00  0.000000e+00   \n",
       "DecisionTree // RandomForest  3.909381e-20  0.000000e+00  3.909381e-20   \n",
       "StocGradDes // LinearSVC      3.137623e-16  1.110223e-16  3.137623e-16   \n",
       "LinearDA // LinearSVC         6.168646e-06  1.962751e-06  6.168646e-06   \n",
       "LinearSVC // RidgeClf         7.853130e-06  3.053994e-06  7.853130e-06   \n",
       "StocGradDes // RidgeClf       3.873950e-02  2.084410e-02  2.516674e-02   \n",
       "StocGradDes // LinearDA       3.873950e-02  2.516674e-02  2.516674e-02   \n",
       "\n",
       "                                     ap_Li  \n",
       "StocGradDes // DecisionTree   0.000000e+00  \n",
       "StocGradDes // RandomForest   0.000000e+00  \n",
       "LinearDA // DecisionTree      0.000000e+00  \n",
       "LinearDA // RandomForest      0.000000e+00  \n",
       "LinearSVC // DecisionTree     0.000000e+00  \n",
       "LinearSVC // RandomForest     0.000000e+00  \n",
       "RidgeClf // DecisionTree      0.000000e+00  \n",
       "RidgeClf // RandomForest      0.000000e+00  \n",
       "DecisionTree // RandomForest  6.683846e-21  \n",
       "StocGradDes // LinearSVC      6.437251e-17  \n",
       "LinearDA // LinearSVC         1.581972e-06  \n",
       "LinearSVC // RidgeClf         2.685283e-06  \n",
       "StocGradDes // RidgeClf       1.948269e-02  \n",
       "StocGradDes // LinearDA       2.516674e-02  "
      ]
     },
     "execution_count": 22,
     "metadata": {},
     "output_type": "execute_result"
    }
   ],
   "source": [
    "print(\"subset: unadjusted p_value is significant\")\n",
    "pv_sig_df = filtr_psig(ph_pvals_df)\n",
    "pv_sig_df"
   ]
  },
  {
   "cell_type": "code",
   "execution_count": null,
   "metadata": {},
   "outputs": [],
   "source": []
  },
  {
   "cell_type": "markdown",
   "metadata": {},
   "source": [
    "Essentially, the post-hoc test tells us which pairs showed a significant difference - and nothing else. To find out which one performed better, we need to go back to the composite metrics from the confusion matrix: AUC, F1, gmean etc."
   ]
  },
  {
   "cell_type": "code",
   "execution_count": null,
   "metadata": {},
   "outputs": [],
   "source": []
  },
  {
   "cell_type": "markdown",
   "metadata": {},
   "source": [
    "#### One vs All \n",
    "In some cases, we do not care about all pairwise comparisons as we only propose a single method, or just need to compare to a baseline method. In this case we designate a control method, and compare all others to it."
   ]
  },
  {
   "cell_type": "code",
   "execution_count": 23,
   "metadata": {},
   "outputs": [
    {
     "name": "stdout",
     "output_type": "stream",
     "text": [
      "Classifiers: 6    Tests: 5\n"
     ]
    },
    {
     "data": {
      "text/html": [
       "<div>\n",
       "<style scoped>\n",
       "    .dataframe tbody tr th:only-of-type {\n",
       "        vertical-align: middle;\n",
       "    }\n",
       "\n",
       "    .dataframe tbody tr th {\n",
       "        vertical-align: top;\n",
       "    }\n",
       "\n",
       "    .dataframe thead th {\n",
       "        text-align: right;\n",
       "    }\n",
       "</style>\n",
       "<table border=\"1\" class=\"dataframe\">\n",
       "  <thead>\n",
       "    <tr style=\"text-align: right;\">\n",
       "      <th></th>\n",
       "      <th>p_noadj</th>\n",
       "      <th>ap_BDun</th>\n",
       "      <th>ap_Sdak</th>\n",
       "      <th>ap_Holm</th>\n",
       "      <th>ap_Finr</th>\n",
       "      <th>ap_Hoch</th>\n",
       "      <th>ap_Li</th>\n",
       "    </tr>\n",
       "  </thead>\n",
       "  <tbody>\n",
       "    <tr>\n",
       "      <th>RidgeClf // DecisionTree</th>\n",
       "      <td>0.000000</td>\n",
       "      <td>0.000000</td>\n",
       "      <td>0.000000</td>\n",
       "      <td>0.000000</td>\n",
       "      <td>0.000000</td>\n",
       "      <td>0.000000</td>\n",
       "      <td>0.000000</td>\n",
       "    </tr>\n",
       "    <tr>\n",
       "      <th>RidgeClf // RandomForest</th>\n",
       "      <td>0.000000</td>\n",
       "      <td>0.000000</td>\n",
       "      <td>0.000000</td>\n",
       "      <td>0.000000</td>\n",
       "      <td>0.000000</td>\n",
       "      <td>0.000000</td>\n",
       "      <td>0.000000</td>\n",
       "    </tr>\n",
       "    <tr>\n",
       "      <th>RidgeClf // LinearSVC</th>\n",
       "      <td>0.000003</td>\n",
       "      <td>0.000013</td>\n",
       "      <td>0.000013</td>\n",
       "      <td>0.000008</td>\n",
       "      <td>0.000004</td>\n",
       "      <td>0.000008</td>\n",
       "      <td>0.000005</td>\n",
       "    </tr>\n",
       "    <tr>\n",
       "      <th>RidgeClf // StocGradDes</th>\n",
       "      <td>0.019370</td>\n",
       "      <td>0.096849</td>\n",
       "      <td>0.093169</td>\n",
       "      <td>0.038740</td>\n",
       "      <td>0.024153</td>\n",
       "      <td>0.038740</td>\n",
       "      <td>0.035879</td>\n",
       "    </tr>\n",
       "    <tr>\n",
       "      <th>RidgeClf // LinearDA</th>\n",
       "      <td>0.479500</td>\n",
       "      <td>1.000000</td>\n",
       "      <td>0.961796</td>\n",
       "      <td>0.479500</td>\n",
       "      <td>0.479500</td>\n",
       "      <td>0.479500</td>\n",
       "      <td>0.479500</td>\n",
       "    </tr>\n",
       "  </tbody>\n",
       "</table>\n",
       "</div>"
      ],
      "text/plain": [
       "                           p_noadj   ap_BDun   ap_Sdak   ap_Holm   ap_Finr  \\\n",
       "RidgeClf // DecisionTree  0.000000  0.000000  0.000000  0.000000  0.000000   \n",
       "RidgeClf // RandomForest  0.000000  0.000000  0.000000  0.000000  0.000000   \n",
       "RidgeClf // LinearSVC     0.000003  0.000013  0.000013  0.000008  0.000004   \n",
       "RidgeClf // StocGradDes   0.019370  0.096849  0.093169  0.038740  0.024153   \n",
       "RidgeClf // LinearDA      0.479500  1.000000  0.961796  0.479500  0.479500   \n",
       "\n",
       "                           ap_Hoch     ap_Li  \n",
       "RidgeClf // DecisionTree  0.000000  0.000000  \n",
       "RidgeClf // RandomForest  0.000000  0.000000  \n",
       "RidgeClf // LinearSVC     0.000008  0.000005  \n",
       "RidgeClf // StocGradDes   0.038740  0.035879  \n",
       "RidgeClf // LinearDA      0.479500  0.479500  "
      ]
     },
     "execution_count": 23,
     "metadata": {},
     "output_type": "execute_result"
    }
   ],
   "source": [
    "ph_ctl_df = cq_mph(y_test,results,cq=False,control='RidgeClf')\n",
    "ph_ctl_df"
   ]
  },
  {
   "cell_type": "code",
   "execution_count": 24,
   "metadata": {},
   "outputs": [
    {
     "data": {
      "text/html": [
       "<div>\n",
       "<style scoped>\n",
       "    .dataframe tbody tr th:only-of-type {\n",
       "        vertical-align: middle;\n",
       "    }\n",
       "\n",
       "    .dataframe tbody tr th {\n",
       "        vertical-align: top;\n",
       "    }\n",
       "\n",
       "    .dataframe thead th {\n",
       "        text-align: right;\n",
       "    }\n",
       "</style>\n",
       "<table border=\"1\" class=\"dataframe\">\n",
       "  <thead>\n",
       "    <tr style=\"text-align: right;\">\n",
       "      <th></th>\n",
       "      <th>p_noadj</th>\n",
       "      <th>H0: BDun</th>\n",
       "      <th>H0: Sdak</th>\n",
       "      <th>H0: Holm</th>\n",
       "      <th>H0: Finr</th>\n",
       "      <th>H0: Hoch</th>\n",
       "      <th>H0: Li</th>\n",
       "    </tr>\n",
       "  </thead>\n",
       "  <tbody>\n",
       "    <tr>\n",
       "      <th>RidgeClf // DecisionTree</th>\n",
       "      <td>False</td>\n",
       "      <td>False</td>\n",
       "      <td>False</td>\n",
       "      <td>False</td>\n",
       "      <td>False</td>\n",
       "      <td>False</td>\n",
       "      <td>False</td>\n",
       "    </tr>\n",
       "    <tr>\n",
       "      <th>RidgeClf // RandomForest</th>\n",
       "      <td>False</td>\n",
       "      <td>False</td>\n",
       "      <td>False</td>\n",
       "      <td>False</td>\n",
       "      <td>False</td>\n",
       "      <td>False</td>\n",
       "      <td>False</td>\n",
       "    </tr>\n",
       "    <tr>\n",
       "      <th>RidgeClf // LinearSVC</th>\n",
       "      <td>False</td>\n",
       "      <td>False</td>\n",
       "      <td>False</td>\n",
       "      <td>False</td>\n",
       "      <td>False</td>\n",
       "      <td>False</td>\n",
       "      <td>False</td>\n",
       "    </tr>\n",
       "    <tr>\n",
       "      <th>RidgeClf // StocGradDes</th>\n",
       "      <td>False</td>\n",
       "      <td>True</td>\n",
       "      <td>True</td>\n",
       "      <td>False</td>\n",
       "      <td>False</td>\n",
       "      <td>False</td>\n",
       "      <td>False</td>\n",
       "    </tr>\n",
       "    <tr>\n",
       "      <th>RidgeClf // LinearDA</th>\n",
       "      <td>True</td>\n",
       "      <td>True</td>\n",
       "      <td>True</td>\n",
       "      <td>True</td>\n",
       "      <td>True</td>\n",
       "      <td>True</td>\n",
       "      <td>True</td>\n",
       "    </tr>\n",
       "  </tbody>\n",
       "</table>\n",
       "</div>"
      ],
      "text/plain": [
       "                          p_noadj  H0: BDun  H0: Sdak  H0: Holm  H0: Finr  \\\n",
       "RidgeClf // DecisionTree    False     False     False     False     False   \n",
       "RidgeClf // RandomForest    False     False     False     False     False   \n",
       "RidgeClf // LinearSVC       False     False     False     False     False   \n",
       "RidgeClf // StocGradDes     False      True      True     False     False   \n",
       "RidgeClf // LinearDA         True      True      True      True      True   \n",
       "\n",
       "                          H0: Hoch  H0: Li  \n",
       "RidgeClf // DecisionTree     False   False  \n",
       "RidgeClf // RandomForest     False   False  \n",
       "RidgeClf // LinearSVC        False   False  \n",
       "RidgeClf // StocGradDes      False   False  \n",
       "RidgeClf // LinearDA          True    True  "
      ]
     },
     "execution_count": 24,
     "metadata": {},
     "output_type": "execute_result"
    }
   ],
   "source": [
    "za=filtr_ap2h0(ph_ctl_df)\n",
    "za"
   ]
  },
  {
   "cell_type": "markdown",
   "metadata": {
    "colab_type": "text",
    "id": "Cpzuyj7gxwCg",
    "tags": []
   },
   "source": [
    " ***"
   ]
  },
  {
   "cell_type": "code",
   "execution_count": null,
   "metadata": {},
   "outputs": [],
   "source": []
  }
 ],
 "metadata": {
  "kernelspec": {
   "display_name": "Python 3 (ipykernel)",
   "language": "python",
   "name": "python3"
  },
  "language_info": {
   "codemirror_mode": {
    "name": "ipython",
    "version": 3
   },
   "file_extension": ".py",
   "mimetype": "text/x-python",
   "name": "python",
   "nbconvert_exporter": "python",
   "pygments_lexer": "ipython3",
   "version": "3.7.13"
  }
 },
 "nbformat": 4,
 "nbformat_minor": 4
}
