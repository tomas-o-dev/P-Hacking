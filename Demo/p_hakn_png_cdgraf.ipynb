{
 "cells": [
  {
   "cell_type": "code",
   "execution_count": null,
   "metadata": {},
   "outputs": [],
   "source": [
    "import pandas as pd\n",
    "import numpy as np"
   ]
  },
  {
   "cell_type": "code",
   "execution_count": null,
   "metadata": {},
   "outputs": [],
   "source": [
    "# add parent folder path where lib folder is\n",
    "import sys\n",
    "if \"..\" not in sys.path:import sys; sys.path.insert(0, '..') "
   ]
  },
  {
   "cell_type": "code",
   "execution_count": null,
   "metadata": {},
   "outputs": [],
   "source": [
    "# nonparametric post-hoc test for one performance measure (e.g., AUC)\n",
    "from P_HAK import nemenyi_cdgraph\n",
    "from IPython.display import Image, display"
   ]
  },
  {
   "cell_type": "code",
   "execution_count": null,
   "metadata": {
    "tags": []
   },
   "outputs": [],
   "source": [
    "alpha = 0.05   # Set this to change the default signifance level"
   ]
  },
  {
   "cell_type": "markdown",
   "metadata": {},
   "source": [
    "#### Read in our data"
   ]
  },
  {
   "cell_type": "code",
   "execution_count": null,
   "metadata": {},
   "outputs": [],
   "source": [
    "# In the csv, the columns are classifiers and the rows are datasets \n",
    "full_df = pd.read_csv(\"../datasets/gmeans.csv\", index_col=0)"
   ]
  },
  {
   "cell_type": "code",
   "execution_count": null,
   "metadata": {},
   "outputs": [],
   "source": [
    "# All_vs_One: list of \"control\" classifiers\n",
    "avo = []\n",
    "#avo = ['XGB']\n",
    "#avo = ['RF','XGB']"
   ]
  },
  {
   "cell_type": "code",
   "execution_count": null,
   "metadata": {},
   "outputs": [],
   "source": [
    "if len(avo) == 0:\n",
    "    oname = \"All_Models\"\n",
    "    df = full_df\n",
    "else:\n",
    "    baseclf = tuple(avo)\n",
    "    oname=\"\"\n",
    "    for x in range(len(avo)):\n",
    "        oname += avo[x] + \"_\"\n",
    "    oname += \"Models\"\n",
    "    df = full_df.loc[:, full_df.columns.str.startswith(baseclf)]"
   ]
  },
  {
   "cell_type": "code",
   "execution_count": null,
   "metadata": {},
   "outputs": [],
   "source": []
  },
  {
   "cell_type": "code",
   "execution_count": null,
   "metadata": {},
   "outputs": [],
   "source": [
    "# def nemenyi_cdgraph(indf, alpha=0.05, pngpath=None, imgres=300):\n",
    "#                default filename is [cwd]/cdgraf\n",
    "# return rptstr, cdplot       # significance, filename\n",
    "\n",
    "rpt, fig = nemenyi_cdgraph(df)\n",
    "\n",
    "print(rpt)\n",
    "display(Image(filename=fig))"
   ]
  },
  {
   "cell_type": "code",
   "execution_count": null,
   "metadata": {},
   "outputs": [],
   "source": []
  },
  {
   "cell_type": "code",
   "execution_count": null,
   "metadata": {},
   "outputs": [],
   "source": [
    "# All_vs_One: list of \"control\" classifiers\n",
    "#avo = []\n",
    "avo = ['XGB']\n",
    "#avo = ['RF','XGB']"
   ]
  },
  {
   "cell_type": "code",
   "execution_count": null,
   "metadata": {},
   "outputs": [],
   "source": [
    "if len(avo) == 0:\n",
    "    oname = \"All_Models\"\n",
    "    df = full_df\n",
    "else:\n",
    "    baseclf = tuple(avo)\n",
    "    oname=\"\"\n",
    "    for x in range(len(avo)):\n",
    "        oname += avo[x] + \"_\"\n",
    "    oname += \"Models\"\n",
    "    df = full_df.loc[:, full_df.columns.str.startswith(baseclf)]"
   ]
  },
  {
   "cell_type": "code",
   "execution_count": null,
   "metadata": {},
   "outputs": [],
   "source": [
    "rpt, fig = nemenyi_cdgraph(df, pngpath=oname+'cdgraf.png', imgres=600)\n",
    "\n",
    "print(rpt)\n",
    "display(Image(filename=fig))"
   ]
  },
  {
   "cell_type": "code",
   "execution_count": null,
   "metadata": {},
   "outputs": [],
   "source": []
  }
 ],
 "metadata": {
  "kernelspec": {
   "display_name": "Python 3 (ipykernel)",
   "language": "python",
   "name": "python3"
  },
  "language_info": {
   "codemirror_mode": {
    "name": "ipython",
    "version": 3
   },
   "file_extension": ".py",
   "mimetype": "text/x-python",
   "name": "python",
   "nbconvert_exporter": "python",
   "pygments_lexer": "ipython3",
   "version": "3.7.13"
  }
 },
 "nbformat": 4,
 "nbformat_minor": 4
}
