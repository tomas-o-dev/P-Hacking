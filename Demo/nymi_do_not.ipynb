{
 "cells": [
  {
   "cell_type": "markdown",
   "metadata": {
    "tags": []
   },
   "source": [
    "> **Comparing Classifiers**\n",
    "<br>` python  3.7.13    scikit-learn  1.0.2 `\n",
    "<br>`numpy   1.19.5          pandas  1.3.5`"
   ]
  },
  {
   "cell_type": "markdown",
   "metadata": {},
   "source": [
    "#### Using the Nemenyi test \n",
    "A quick demonstration of why the Nemenyi test is only appropriate for All.vs.All"
   ]
  },
  {
   "cell_type": "code",
   "execution_count": 1,
   "metadata": {},
   "outputs": [],
   "source": [
    "import pandas as pd\n",
    "import numpy as np"
   ]
  },
  {
   "cell_type": "code",
   "execution_count": 2,
   "metadata": {},
   "outputs": [],
   "source": [
    "# add parent folder path where lib folder is\n",
    "import sys\n",
    "if \"..\" not in sys.path:import sys; sys.path.insert(0, '..') "
   ]
  },
  {
   "cell_type": "code",
   "execution_count": 4,
   "metadata": {},
   "outputs": [],
   "source": [
    "# nonparametric tests for one performance measure (e.g., AUC)\n",
    "#from P_HAKN import run_friedman, ph_pvals, filtr_ap2h0, filtr_psig \n",
    "#from P_HAKN import compare_avgranks, compare_avgranks_lf, sort_dict_byval\n",
    "\n",
    "from P_HAKN import run_friedman, filtr_ap2h0\n",
    "from P_HAKN.do_not import nym_permit, nym_psig"
   ]
  },
  {
   "cell_type": "code",
   "execution_count": 5,
   "metadata": {
    "tags": []
   },
   "outputs": [],
   "source": [
    "alpha = 0.05   # Set this to change the default signifance level"
   ]
  },
  {
   "cell_type": "markdown",
   "metadata": {},
   "source": [
    "#### Read in our data"
   ]
  },
  {
   "cell_type": "code",
   "execution_count": 6,
   "metadata": {},
   "outputs": [],
   "source": [
    "# In the csv, the columns are classifiers and the rows are datasets \n",
    "full_df = pd.read_csv(\"../datasets/4d_auc.csv\", index_col=0)\n",
    "#full_df = pd.read_csv(\"../datasets/4d_gmean.csv\", index_col=0)\n",
    "#full_df = pd.read_csv(\"../datasets/4d_eloss.csv\", index_col=0)"
   ]
  },
  {
   "cell_type": "code",
   "execution_count": 7,
   "metadata": {},
   "outputs": [],
   "source": [
    "# All_vs_One: list of \"control\" classifiers or none for All.vs.All\n",
    "#avo = []\n",
    "avo = ['RF']\n",
    "#avo = ['RF','XGB']"
   ]
  },
  {
   "cell_type": "code",
   "execution_count": 8,
   "metadata": {},
   "outputs": [],
   "source": [
    "if len(avo) == 0:\n",
    "    oname = \"All_Models\"\n",
    "    df = full_df\n",
    "else:\n",
    "    baseclf = tuple(avo)\n",
    "    oname=\"\"\n",
    "    for x in range(len(avo)):\n",
    "        oname += avo[x] + \"_\"\n",
    "    oname += \"Models\"\n",
    "    df = full_df.loc[:, full_df.columns.str.startswith(baseclf)]"
   ]
  },
  {
   "cell_type": "code",
   "execution_count": null,
   "metadata": {},
   "outputs": [],
   "source": []
  },
  {
   "cell_type": "markdown",
   "metadata": {
    "tags": []
   },
   "source": [
    "#### Friedman test \n",
    "Checks if there is a significant difference in performance for any classifier<br>\n",
    "If we reject H0 (no difference), we use the post-hoc test to find out which differences are significant."
   ]
  },
  {
   "cell_type": "code",
   "execution_count": 9,
   "metadata": {},
   "outputs": [
    {
     "name": "stdout",
     "output_type": "stream",
     "text": [
      "RF_Models : Freidman Test\n",
      "H0: there is no difference in the means at the 95.0% confidence level \n",
      "Reject: Ready to continue with post-hoc tests\n"
     ]
    }
   ],
   "source": [
    "reject, rptstr, rankings, avg_ranks = run_friedman(df)\n",
    "\n",
    "print(oname,\":\",rptstr)\n",
    "# continue only if H0 was rejected\n",
    "if not reject:\n",
    "    raise Exception(\"Accepted H0 for Freidman Test\")"
   ]
  },
  {
   "cell_type": "code",
   "execution_count": null,
   "metadata": {},
   "outputs": [],
   "source": []
  },
  {
   "cell_type": "markdown",
   "metadata": {},
   "source": [
    "#### Nemenyi Test - Used properly\n",
    "For All.vs.All, the Nemenyi adjusted p_value is consistently smaller than its single step counterparts, which means H0 will be rejected for more tests - another way to say this is Nemenyi is more powerful than Sidak, and Sidak is more powerful than Bonferroni-Dunn"
   ]
  },
  {
   "cell_type": "code",
   "execution_count": 10,
   "metadata": {},
   "outputs": [
    {
     "name": "stdout",
     "output_type": "stream",
     "text": [
      "RF_Models : Nemenyi Test - All.vs.All\n",
      "Classifiers: 9    Tests: 36\n"
     ]
    }
   ],
   "source": [
    "print(oname,\": Nemenyi Test - All.vs.All\")\n",
    "nym_ap_df=nym_permit(rankings)"
   ]
  },
  {
   "cell_type": "code",
   "execution_count": 11,
   "metadata": {},
   "outputs": [
    {
     "data": {
      "text/html": [
       "<div>\n",
       "<style scoped>\n",
       "    .dataframe tbody tr th:only-of-type {\n",
       "        vertical-align: middle;\n",
       "    }\n",
       "\n",
       "    .dataframe tbody tr th {\n",
       "        vertical-align: top;\n",
       "    }\n",
       "\n",
       "    .dataframe thead th {\n",
       "        text-align: right;\n",
       "    }\n",
       "</style>\n",
       "<table border=\"1\" class=\"dataframe\">\n",
       "  <thead>\n",
       "    <tr style=\"text-align: right;\">\n",
       "      <th></th>\n",
       "      <th>lookup</th>\n",
       "      <th>p_noadj</th>\n",
       "      <th>ap_Nymi</th>\n",
       "      <th>ap_BDun</th>\n",
       "      <th>ap_Sdak</th>\n",
       "    </tr>\n",
       "  </thead>\n",
       "  <tbody>\n",
       "    <tr>\n",
       "      <th>RF+1FF // RF+3FF+RUS</th>\n",
       "      <td>3.356586</td>\n",
       "      <td>0.000789</td>\n",
       "      <td>0.022443</td>\n",
       "      <td>0.028408</td>\n",
       "      <td>0.028019</td>\n",
       "    </tr>\n",
       "    <tr>\n",
       "      <th>RF // RF+3FF+RUS</th>\n",
       "      <td>3.292036</td>\n",
       "      <td>0.000995</td>\n",
       "      <td>0.027714</td>\n",
       "      <td>0.035807</td>\n",
       "      <td>0.035191</td>\n",
       "    </tr>\n",
       "    <tr>\n",
       "      <th>RF+1FF // RF+RUS</th>\n",
       "      <td>3.098387</td>\n",
       "      <td>0.001946</td>\n",
       "      <td>0.050507</td>\n",
       "      <td>0.070048</td>\n",
       "      <td>0.067714</td>\n",
       "    </tr>\n",
       "    <tr>\n",
       "      <th>RF+3FF // RF+3FF+RUS</th>\n",
       "      <td>3.098387</td>\n",
       "      <td>0.001946</td>\n",
       "      <td>0.050507</td>\n",
       "      <td>0.070048</td>\n",
       "      <td>0.067714</td>\n",
       "    </tr>\n",
       "    <tr>\n",
       "      <th>RF // RF+RUS</th>\n",
       "      <td>3.033837</td>\n",
       "      <td>0.002415</td>\n",
       "      <td>0.061166</td>\n",
       "      <td>0.086927</td>\n",
       "      <td>0.083353</td>\n",
       "    </tr>\n",
       "  </tbody>\n",
       "</table>\n",
       "</div>"
      ],
      "text/plain": [
       "                        lookup   p_noadj   ap_Nymi   ap_BDun   ap_Sdak\n",
       "RF+1FF // RF+3FF+RUS  3.356586  0.000789  0.022443  0.028408  0.028019\n",
       "RF // RF+3FF+RUS      3.292036  0.000995  0.027714  0.035807  0.035191\n",
       "RF+1FF // RF+RUS      3.098387  0.001946  0.050507  0.070048  0.067714\n",
       "RF+3FF // RF+3FF+RUS  3.098387  0.001946  0.050507  0.070048  0.067714\n",
       "RF // RF+RUS          3.033837  0.002415  0.061166  0.086927  0.083353"
      ]
     },
     "execution_count": 11,
     "metadata": {},
     "output_type": "execute_result"
    }
   ],
   "source": [
    "aptop = nym_ap_df.loc[nym_ap_df['ap_BDun'] < (alpha*2)]\n",
    "aptop"
   ]
  },
  {
   "cell_type": "code",
   "execution_count": 12,
   "metadata": {},
   "outputs": [
    {
     "data": {
      "text/html": [
       "<div>\n",
       "<style scoped>\n",
       "    .dataframe tbody tr th:only-of-type {\n",
       "        vertical-align: middle;\n",
       "    }\n",
       "\n",
       "    .dataframe tbody tr th {\n",
       "        vertical-align: top;\n",
       "    }\n",
       "\n",
       "    .dataframe thead th {\n",
       "        text-align: right;\n",
       "    }\n",
       "</style>\n",
       "<table border=\"1\" class=\"dataframe\">\n",
       "  <thead>\n",
       "    <tr style=\"text-align: right;\">\n",
       "      <th></th>\n",
       "      <th>p_noadj</th>\n",
       "      <th>H0: Nymi</th>\n",
       "      <th>H0: BDun</th>\n",
       "      <th>H0: Sdak</th>\n",
       "    </tr>\n",
       "  </thead>\n",
       "  <tbody>\n",
       "    <tr>\n",
       "      <th>RF+1FF // RF+3FF+RUS</th>\n",
       "      <td>False</td>\n",
       "      <td>False</td>\n",
       "      <td>False</td>\n",
       "      <td>False</td>\n",
       "    </tr>\n",
       "    <tr>\n",
       "      <th>RF // RF+3FF+RUS</th>\n",
       "      <td>False</td>\n",
       "      <td>False</td>\n",
       "      <td>False</td>\n",
       "      <td>False</td>\n",
       "    </tr>\n",
       "    <tr>\n",
       "      <th>RF+1FF // RF+RUS</th>\n",
       "      <td>False</td>\n",
       "      <td>True</td>\n",
       "      <td>True</td>\n",
       "      <td>True</td>\n",
       "    </tr>\n",
       "    <tr>\n",
       "      <th>RF+3FF // RF+3FF+RUS</th>\n",
       "      <td>False</td>\n",
       "      <td>True</td>\n",
       "      <td>True</td>\n",
       "      <td>True</td>\n",
       "    </tr>\n",
       "    <tr>\n",
       "      <th>RF // RF+RUS</th>\n",
       "      <td>False</td>\n",
       "      <td>True</td>\n",
       "      <td>True</td>\n",
       "      <td>True</td>\n",
       "    </tr>\n",
       "  </tbody>\n",
       "</table>\n",
       "</div>"
      ],
      "text/plain": [
       "                      p_noadj  H0: Nymi  H0: BDun  H0: Sdak\n",
       "RF+1FF // RF+3FF+RUS    False     False     False     False\n",
       "RF // RF+3FF+RUS        False     False     False     False\n",
       "RF+1FF // RF+RUS        False      True      True      True\n",
       "RF+3FF // RF+3FF+RUS    False      True      True      True\n",
       "RF // RF+RUS            False      True      True      True"
      ]
     },
     "execution_count": 12,
     "metadata": {},
     "output_type": "execute_result"
    }
   ],
   "source": [
    "nym_rfa_ho = filtr_ap2h0(nym_ap_df)\n",
    "nym_rfa_ho.head(len(aptop))"
   ]
  },
  {
   "cell_type": "code",
   "execution_count": null,
   "metadata": {},
   "outputs": [],
   "source": []
  },
  {
   "cell_type": "markdown",
   "metadata": {
    "tags": []
   },
   "source": [
    "#### Nemenyi Test - Used on a subset (Don't do this)\n",
    "Here the Nemenyi adjusted p_value is consistently larger than its single step counterparts, because the Nemenyi adjustment is based on _the full list of classifiers being tested_, where the others adjust based on _the number of pairs of classifiers_"
   ]
  },
  {
   "cell_type": "code",
   "execution_count": 13,
   "metadata": {},
   "outputs": [
    {
     "name": "stdout",
     "output_type": "stream",
     "text": [
      "RF_Models subset: unadjusted p_value is significant\n",
      "Significant: 12    Not: 24\n",
      "Classifiers: 8    Tests: 12\n"
     ]
    }
   ],
   "source": [
    "print(oname,\"subset: unadjusted p_value is significant\")\n",
    "nym_sig_df = nym_psig(nym_ap_df)"
   ]
  },
  {
   "cell_type": "code",
   "execution_count": 14,
   "metadata": {},
   "outputs": [
    {
     "data": {
      "text/html": [
       "<div>\n",
       "<style scoped>\n",
       "    .dataframe tbody tr th:only-of-type {\n",
       "        vertical-align: middle;\n",
       "    }\n",
       "\n",
       "    .dataframe tbody tr th {\n",
       "        vertical-align: top;\n",
       "    }\n",
       "\n",
       "    .dataframe thead th {\n",
       "        text-align: right;\n",
       "    }\n",
       "</style>\n",
       "<table border=\"1\" class=\"dataframe\">\n",
       "  <thead>\n",
       "    <tr style=\"text-align: right;\">\n",
       "      <th></th>\n",
       "      <th>lookup</th>\n",
       "      <th>p_noadj</th>\n",
       "      <th>ap_Nymi</th>\n",
       "      <th>ap_BDun</th>\n",
       "      <th>ap_Sdak</th>\n",
       "    </tr>\n",
       "  </thead>\n",
       "  <tbody>\n",
       "    <tr>\n",
       "      <th>RF+1FF // RF+3FF+RUS</th>\n",
       "      <td>3.356586</td>\n",
       "      <td>0.000789</td>\n",
       "      <td>0.017981</td>\n",
       "      <td>0.009469</td>\n",
       "      <td>0.009428</td>\n",
       "    </tr>\n",
       "    <tr>\n",
       "      <th>RF // RF+3FF+RUS</th>\n",
       "      <td>3.292036</td>\n",
       "      <td>0.000995</td>\n",
       "      <td>0.022253</td>\n",
       "      <td>0.011936</td>\n",
       "      <td>0.011871</td>\n",
       "    </tr>\n",
       "    <tr>\n",
       "      <th>RF+1FF // RF+RUS</th>\n",
       "      <td>3.098387</td>\n",
       "      <td>0.001946</td>\n",
       "      <td>0.040951</td>\n",
       "      <td>0.023349</td>\n",
       "      <td>0.023101</td>\n",
       "    </tr>\n",
       "    <tr>\n",
       "      <th>RF+3FF // RF+3FF+RUS</th>\n",
       "      <td>3.098387</td>\n",
       "      <td>0.001946</td>\n",
       "      <td>0.040951</td>\n",
       "      <td>0.023349</td>\n",
       "      <td>0.023101</td>\n",
       "    </tr>\n",
       "    <tr>\n",
       "      <th>RF // RF+RUS</th>\n",
       "      <td>3.033837</td>\n",
       "      <td>0.002415</td>\n",
       "      <td>0.049571</td>\n",
       "      <td>0.028976</td>\n",
       "      <td>0.028594</td>\n",
       "    </tr>\n",
       "    <tr>\n",
       "      <th>RF+1FF // RF+3FF+SMOTE</th>\n",
       "      <td>2.904738</td>\n",
       "      <td>0.003676</td>\n",
       "      <td>0.071882</td>\n",
       "      <td>0.044107</td>\n",
       "      <td>0.043227</td>\n",
       "    </tr>\n",
       "    <tr>\n",
       "      <th>RF // RF+3FF+SMOTE</th>\n",
       "      <td>2.840188</td>\n",
       "      <td>0.004509</td>\n",
       "      <td>0.085639</td>\n",
       "      <td>0.054104</td>\n",
       "      <td>0.052783</td>\n",
       "    </tr>\n",
       "    <tr>\n",
       "      <th>RF+3FF // RF+RUS</th>\n",
       "      <td>2.840188</td>\n",
       "      <td>0.004509</td>\n",
       "      <td>0.085639</td>\n",
       "      <td>0.054104</td>\n",
       "      <td>0.052783</td>\n",
       "    </tr>\n",
       "    <tr>\n",
       "      <th>RF+3FF // RF+3FF+SMOTE</th>\n",
       "      <td>2.646539</td>\n",
       "      <td>0.008132</td>\n",
       "      <td>0.139159</td>\n",
       "      <td>0.097584</td>\n",
       "      <td>0.093336</td>\n",
       "    </tr>\n",
       "  </tbody>\n",
       "</table>\n",
       "</div>"
      ],
      "text/plain": [
       "                          lookup   p_noadj   ap_Nymi   ap_BDun   ap_Sdak\n",
       "RF+1FF // RF+3FF+RUS    3.356586  0.000789  0.017981  0.009469  0.009428\n",
       "RF // RF+3FF+RUS        3.292036  0.000995  0.022253  0.011936  0.011871\n",
       "RF+1FF // RF+RUS        3.098387  0.001946  0.040951  0.023349  0.023101\n",
       "RF+3FF // RF+3FF+RUS    3.098387  0.001946  0.040951  0.023349  0.023101\n",
       "RF // RF+RUS            3.033837  0.002415  0.049571  0.028976  0.028594\n",
       "RF+1FF // RF+3FF+SMOTE  2.904738  0.003676  0.071882  0.044107  0.043227\n",
       "RF // RF+3FF+SMOTE      2.840188  0.004509  0.085639  0.054104  0.052783\n",
       "RF+3FF // RF+RUS        2.840188  0.004509  0.085639  0.054104  0.052783\n",
       "RF+3FF // RF+3FF+SMOTE  2.646539  0.008132  0.139159  0.097584  0.093336"
      ]
     },
     "execution_count": 14,
     "metadata": {},
     "output_type": "execute_result"
    }
   ],
   "source": [
    "sotop = nym_sig_df.loc[nym_sig_df['ap_BDun'] < (alpha*2)]\n",
    "sotop"
   ]
  },
  {
   "cell_type": "code",
   "execution_count": 15,
   "metadata": {},
   "outputs": [
    {
     "data": {
      "text/html": [
       "<div>\n",
       "<style scoped>\n",
       "    .dataframe tbody tr th:only-of-type {\n",
       "        vertical-align: middle;\n",
       "    }\n",
       "\n",
       "    .dataframe tbody tr th {\n",
       "        vertical-align: top;\n",
       "    }\n",
       "\n",
       "    .dataframe thead th {\n",
       "        text-align: right;\n",
       "    }\n",
       "</style>\n",
       "<table border=\"1\" class=\"dataframe\">\n",
       "  <thead>\n",
       "    <tr style=\"text-align: right;\">\n",
       "      <th></th>\n",
       "      <th>p_noadj</th>\n",
       "      <th>H0: Nymi</th>\n",
       "      <th>H0: BDun</th>\n",
       "      <th>H0: Sdak</th>\n",
       "    </tr>\n",
       "  </thead>\n",
       "  <tbody>\n",
       "    <tr>\n",
       "      <th>RF+1FF // RF+3FF+RUS</th>\n",
       "      <td>False</td>\n",
       "      <td>False</td>\n",
       "      <td>False</td>\n",
       "      <td>False</td>\n",
       "    </tr>\n",
       "    <tr>\n",
       "      <th>RF // RF+3FF+RUS</th>\n",
       "      <td>False</td>\n",
       "      <td>False</td>\n",
       "      <td>False</td>\n",
       "      <td>False</td>\n",
       "    </tr>\n",
       "    <tr>\n",
       "      <th>RF+1FF // RF+RUS</th>\n",
       "      <td>False</td>\n",
       "      <td>False</td>\n",
       "      <td>False</td>\n",
       "      <td>False</td>\n",
       "    </tr>\n",
       "    <tr>\n",
       "      <th>RF+3FF // RF+3FF+RUS</th>\n",
       "      <td>False</td>\n",
       "      <td>False</td>\n",
       "      <td>False</td>\n",
       "      <td>False</td>\n",
       "    </tr>\n",
       "    <tr>\n",
       "      <th>RF // RF+RUS</th>\n",
       "      <td>False</td>\n",
       "      <td>False</td>\n",
       "      <td>False</td>\n",
       "      <td>False</td>\n",
       "    </tr>\n",
       "    <tr>\n",
       "      <th>RF+1FF // RF+3FF+SMOTE</th>\n",
       "      <td>False</td>\n",
       "      <td>True</td>\n",
       "      <td>False</td>\n",
       "      <td>False</td>\n",
       "    </tr>\n",
       "    <tr>\n",
       "      <th>RF // RF+3FF+SMOTE</th>\n",
       "      <td>False</td>\n",
       "      <td>True</td>\n",
       "      <td>True</td>\n",
       "      <td>True</td>\n",
       "    </tr>\n",
       "    <tr>\n",
       "      <th>RF+3FF // RF+RUS</th>\n",
       "      <td>False</td>\n",
       "      <td>True</td>\n",
       "      <td>True</td>\n",
       "      <td>True</td>\n",
       "    </tr>\n",
       "    <tr>\n",
       "      <th>RF+3FF // RF+3FF+SMOTE</th>\n",
       "      <td>False</td>\n",
       "      <td>True</td>\n",
       "      <td>True</td>\n",
       "      <td>True</td>\n",
       "    </tr>\n",
       "  </tbody>\n",
       "</table>\n",
       "</div>"
      ],
      "text/plain": [
       "                        p_noadj  H0: Nymi  H0: BDun  H0: Sdak\n",
       "RF+1FF // RF+3FF+RUS      False     False     False     False\n",
       "RF // RF+3FF+RUS          False     False     False     False\n",
       "RF+1FF // RF+RUS          False     False     False     False\n",
       "RF+3FF // RF+3FF+RUS      False     False     False     False\n",
       "RF // RF+RUS              False     False     False     False\n",
       "RF+1FF // RF+3FF+SMOTE    False      True     False     False\n",
       "RF // RF+3FF+SMOTE        False      True      True      True\n",
       "RF+3FF // RF+RUS          False      True      True      True\n",
       "RF+3FF // RF+3FF+SMOTE    False      True      True      True"
      ]
     },
     "execution_count": 15,
     "metadata": {},
     "output_type": "execute_result"
    }
   ],
   "source": [
    "nym_sig_ho = filtr_ap2h0(nym_sig_df)\n",
    "nym_sig_ho.head(len(sotop))"
   ]
  },
  {
   "cell_type": "code",
   "execution_count": null,
   "metadata": {},
   "outputs": [],
   "source": []
  },
  {
   "cell_type": "markdown",
   "metadata": {
    "tags": []
   },
   "source": [
    "#### Nemenyi Test - One.vs.All (Don't do this)\n",
    "Demsar (2006, p.12) \n",
    "> \"When all classiﬁers are compared with a control classiﬁer, we can instead of the Nemenyi test use one of the general procedures for controlling the family-wise error in multiple hypothesis testing, such as the Bonferroni correction or similar procedures. Although these methods are generally conservative and can have little power, they are in this speciﬁc case more powerful than the Nemenyi test, since the latter adjusts the critical value for making `k(k − 1)/2` comparisons while when\n",
    "comparing with a control we only make `k − 1` comparisons.\"\n",
    "\n",
    "In other words, the Nemenyi adjustment is based on _the full list of classifiers being tested_, where the others adjust based on _the number of pairs of classifiers_"
   ]
  },
  {
   "cell_type": "code",
   "execution_count": 16,
   "metadata": {},
   "outputs": [
    {
     "name": "stdout",
     "output_type": "stream",
     "text": [
      "RF_Models : Nemenyi Test - One.vs.All\n",
      "Classifiers: 9    Tests: 8\n"
     ]
    }
   ],
   "source": [
    "print(oname,\": Nemenyi Test - One.vs.All\")\n",
    "nym_rf_df=nym_permit(rankings,control='RF')"
   ]
  },
  {
   "cell_type": "code",
   "execution_count": 17,
   "metadata": {},
   "outputs": [
    {
     "data": {
      "text/html": [
       "<div>\n",
       "<style scoped>\n",
       "    .dataframe tbody tr th:only-of-type {\n",
       "        vertical-align: middle;\n",
       "    }\n",
       "\n",
       "    .dataframe tbody tr th {\n",
       "        vertical-align: top;\n",
       "    }\n",
       "\n",
       "    .dataframe thead th {\n",
       "        text-align: right;\n",
       "    }\n",
       "</style>\n",
       "<table border=\"1\" class=\"dataframe\">\n",
       "  <thead>\n",
       "    <tr style=\"text-align: right;\">\n",
       "      <th></th>\n",
       "      <th>lookup</th>\n",
       "      <th>p_noadj</th>\n",
       "      <th>ap_Nymi</th>\n",
       "      <th>ap_BDun</th>\n",
       "      <th>ap_Sdak</th>\n",
       "    </tr>\n",
       "  </thead>\n",
       "  <tbody>\n",
       "    <tr>\n",
       "      <th>RF // RF+3FF+RUS</th>\n",
       "      <td>3.292036</td>\n",
       "      <td>0.000995</td>\n",
       "      <td>0.027714</td>\n",
       "      <td>0.007957</td>\n",
       "      <td>0.007930</td>\n",
       "    </tr>\n",
       "    <tr>\n",
       "      <th>RF // RF+RUS</th>\n",
       "      <td>3.033837</td>\n",
       "      <td>0.002415</td>\n",
       "      <td>0.061166</td>\n",
       "      <td>0.019317</td>\n",
       "      <td>0.019155</td>\n",
       "    </tr>\n",
       "    <tr>\n",
       "      <th>RF // RF+3FF+SMOTE</th>\n",
       "      <td>2.840188</td>\n",
       "      <td>0.004509</td>\n",
       "      <td>0.103887</td>\n",
       "      <td>0.036070</td>\n",
       "      <td>0.035505</td>\n",
       "    </tr>\n",
       "  </tbody>\n",
       "</table>\n",
       "</div>"
      ],
      "text/plain": [
       "                      lookup   p_noadj   ap_Nymi   ap_BDun   ap_Sdak\n",
       "RF // RF+3FF+RUS    3.292036  0.000995  0.027714  0.007957  0.007930\n",
       "RF // RF+RUS        3.033837  0.002415  0.061166  0.019317  0.019155\n",
       "RF // RF+3FF+SMOTE  2.840188  0.004509  0.103887  0.036070  0.035505"
      ]
     },
     "execution_count": 17,
     "metadata": {},
     "output_type": "execute_result"
    }
   ],
   "source": [
    "rftop = nym_rf_df.loc[nym_rf_df['ap_BDun'] < (alpha*2)]\n",
    "rftop"
   ]
  },
  {
   "cell_type": "code",
   "execution_count": 18,
   "metadata": {},
   "outputs": [
    {
     "data": {
      "text/html": [
       "<div>\n",
       "<style scoped>\n",
       "    .dataframe tbody tr th:only-of-type {\n",
       "        vertical-align: middle;\n",
       "    }\n",
       "\n",
       "    .dataframe tbody tr th {\n",
       "        vertical-align: top;\n",
       "    }\n",
       "\n",
       "    .dataframe thead th {\n",
       "        text-align: right;\n",
       "    }\n",
       "</style>\n",
       "<table border=\"1\" class=\"dataframe\">\n",
       "  <thead>\n",
       "    <tr style=\"text-align: right;\">\n",
       "      <th></th>\n",
       "      <th>p_noadj</th>\n",
       "      <th>H0: Nymi</th>\n",
       "      <th>H0: BDun</th>\n",
       "      <th>H0: Sdak</th>\n",
       "    </tr>\n",
       "  </thead>\n",
       "  <tbody>\n",
       "    <tr>\n",
       "      <th>RF // RF+3FF+RUS</th>\n",
       "      <td>False</td>\n",
       "      <td>False</td>\n",
       "      <td>False</td>\n",
       "      <td>False</td>\n",
       "    </tr>\n",
       "    <tr>\n",
       "      <th>RF // RF+RUS</th>\n",
       "      <td>False</td>\n",
       "      <td>True</td>\n",
       "      <td>False</td>\n",
       "      <td>False</td>\n",
       "    </tr>\n",
       "    <tr>\n",
       "      <th>RF // RF+3FF+SMOTE</th>\n",
       "      <td>False</td>\n",
       "      <td>True</td>\n",
       "      <td>False</td>\n",
       "      <td>False</td>\n",
       "    </tr>\n",
       "  </tbody>\n",
       "</table>\n",
       "</div>"
      ],
      "text/plain": [
       "                    p_noadj  H0: Nymi  H0: BDun  H0: Sdak\n",
       "RF // RF+3FF+RUS      False     False     False     False\n",
       "RF // RF+RUS          False      True     False     False\n",
       "RF // RF+3FF+SMOTE    False      True     False     False"
      ]
     },
     "execution_count": 18,
     "metadata": {},
     "output_type": "execute_result"
    }
   ],
   "source": [
    "nym_rfo_ho = filtr_ap2h0(nym_rf_df)\n",
    "nym_rfo_ho.head(len(rftop))"
   ]
  },
  {
   "cell_type": "code",
   "execution_count": null,
   "metadata": {},
   "outputs": [],
   "source": []
  },
  {
   "cell_type": "code",
   "execution_count": null,
   "metadata": {},
   "outputs": [],
   "source": []
  }
 ],
 "metadata": {
  "kernelspec": {
   "display_name": "Python 3 (ipykernel)",
   "language": "python",
   "name": "python3"
  },
  "language_info": {
   "codemirror_mode": {
    "name": "ipython",
    "version": 3
   },
   "file_extension": ".py",
   "mimetype": "text/x-python",
   "name": "python",
   "nbconvert_exporter": "python",
   "pygments_lexer": "ipython3",
   "version": "3.7.13"
  }
 },
 "nbformat": 4,
 "nbformat_minor": 4
}
